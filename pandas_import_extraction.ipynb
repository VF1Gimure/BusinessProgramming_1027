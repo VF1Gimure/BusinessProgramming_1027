{
 "cells": [
  {
   "cell_type": "markdown",
   "metadata": {},
   "source": [
    "## Introduction\n",
    "\n",
    "In this class, we will learn:\n",
    "1. How to import the Pandas library.\n",
    "2. How to load data from different files (CSV, Excel, JSON).\n",
    "3. How to extract specific rows, columns, and values.\n",
    "4. How to modify the data and save it again.\n",
    "5. How to use NumPy operations and a simple for-loop.\n",
    "6. How to pick X and Y and plot.\n",
    "7. Basic data **cleaning**: handle missing values and drop low-variation columns.\n",
    "\n",
    "**Note for Google Colab users:** If you run this in Colab, you can either upload files with `files.upload()` or mount Google Drive with `drive.mount('/content/drive')`. See the Colab section below."
   ],
   "id": "ba4998d5b6204c5f"
  },
  {
   "cell_type": "code",
   "execution_count": null,
   "metadata": {},
   "outputs": [],
   "source": [
    "import pandas as pd\n",
    "import numpy as np\n",
    "import matplotlib.pyplot as plt\n",
    "\n",
    "# Main folder path for your data. Adjust as needed.\n",
    "data_path = \"../dummy_data/\""
   ],
   "id": "23009bf1bd7e4781"
  },
  {
   "cell_type": "markdown",
   "metadata": {},
   "source": [
    "## Notes for Google Colab\n",
    "\n",
    "**Option A: Upload files each time**\n",
    "\n",
    "```python\n",
    "from google.colab import files\n",
    "uploaded = files.upload()  # Choose data.csv, data.xlsx, data.json\n",
    "```\n",
    "\n",
    "After upload, files live in the current folder `/content/`, so set:\n",
    "\n",
    "```python\n",
    "data_path = \"\"  # empty, files are next to the notebook\n",
    "```\n",
    "\n",
    "**Option B: Mount Google Drive (persistent storage)**\n",
    "\n",
    "```python\n",
    "from google.colab import drive\n",
    "drive.mount('/content/drive')\n",
    "data_path = \"/content/drive/MyDrive/dummy_data/\"  # put your folder in Drive\n",
    "```\n",
    "\n",
    "### Path tips (`../`)\n",
    "- `\"file.csv\"` → file in the **current folder**\n",
    "- `\"../file.csv\"` → file in the **parent folder** (go back once)\n",
    "- `\"../../file.csv\"` → go back **two folders up**\n",
    "- `\"../dummy_data/data.csv\"` → go back one folder, then into `dummy_data/`"
   ],
   "id": "f7beac509e1d1a7a"
  },
  {
   "cell_type": "markdown",
   "metadata": {},
   "source": [
    "## Loading Data (CSV / Excel / JSON)\n",
    "\n",
    "We will start with CSV. We use the `data_path` variable so paths are easy to switch (local, Colab, or Drive)."
   ],
   "id": "afee25cfd81dc108"
  },
  {
   "cell_type": "code",
   "execution_count": null,
   "metadata": {},
   "outputs": [],
   "source": [
    "# CSV example\n",
    "df = pd.read_csv(data_path + \"data.csv\")\n",
    "print(df.head())"
   ],
   "id": "8d9a006ff35aef3"
  },
  {
   "cell_type": "code",
   "execution_count": null,
   "metadata": {},
   "outputs": [],
   "source": [
    "# Excel example (uncomment if you have data.xlsx)\n",
    "# df_excel = pd.read_excel(data_path + \"data.xlsx\")\n",
    "# print(df_excel.head())\n",
    "\n",
    "# JSON example (uncomment if you have data.json)\n",
    "# df_json = pd.read_json(data_path + \"data.json\")\n",
    "# print(df_json.head())"
   ],
   "id": "1d9fce6b3dacda33"
  },
  {
   "cell_type": "markdown",
   "metadata": {},
   "source": [
    "### Are CSV and Excel different to read?\n",
    "- **CSV**: plain text, use `pd.read_csv(...)`. Options you often use: `sep`, `header`, `names`, `dtype`, `na_values`.\n",
    "- **Excel**: spreadsheet format, use `pd.read_excel(...)`. Extra options: `sheet_name` (which sheet), `engine` (sometimes needed), date parsing per sheet, etc.\n",
    "\n",
    "You **do not** need to “construct” a DataFrame manually—both functions return a DataFrame directly. You only adjust parameters if the file has special formatting."
   ],
   "id": "2eaa878a838541a4"
  },
  {
   "cell_type": "markdown",
   "metadata": {},
   "source": [
    "## Basic Exploration"
   ],
   "id": "3c7d0a055a740d38"
  },
  {
   "cell_type": "code",
   "execution_count": null,
   "metadata": {},
   "outputs": [],
   "source": [
    "print(df.head())\n",
    "print(df.shape)\n",
    "print(df.columns)\n",
    "print(df.info())"
   ],
   "id": "866905462c6300b"
  },
  {
   "cell_type": "markdown",
   "metadata": {},
   "source": [
    "## Extracting Columns"
   ],
   "id": "592f0b46c8bf6bb6"
  },
  {
   "cell_type": "code",
   "execution_count": null,
   "metadata": {},
   "outputs": [],
   "source": [
    "# One column as DataFrame\n",
    "one_col_df = df[[\"Name\"]]\n",
    "print(one_col_df.head())\n",
    "\n",
    "# Drop one column (copy into a new df)\n",
    "no_city_df = df.drop(columns=[\"City\"])\n",
    "print(no_city_df.head())"
   ],
   "id": "8f6e74557160608e"
  },
  {
   "cell_type": "markdown",
   "metadata": {},
   "source": [
    "## Filtering"
   ],
   "id": "416c65e8b116e9b0"
  },
  {
   "cell_type": "code",
   "execution_count": null,
   "metadata": {},
   "outputs": [],
   "source": [
    "filtered = df[df[\"Age\"] > 20]\n",
    "print(filtered)"
   ],
   "id": "28ef15a8ba47dc40"
  },
  {
   "cell_type": "markdown",
   "metadata": {},
   "source": [
    "## Modifying Data (add a new column)"
   ],
   "id": "74c07e644f8b15bd"
  },
  {
   "cell_type": "code",
   "execution_count": null,
   "metadata": {},
   "outputs": [],
   "source": [
    "df[\"Age_plus_10\"] = df[\"Age\"] + 10\n",
    "print(df.head())"
   ],
   "id": "1b58985ee71160a1"
  },
  {
   "cell_type": "markdown",
   "metadata": {},
   "source": [
    "## NumPy Operations (using the data)"
   ],
   "id": "e4bb613cf3043f41"
  },
  {
   "cell_type": "code",
   "execution_count": null,
   "metadata": {},
   "outputs": [],
   "source": [
    "ages = df[\"Age\"].to_numpy()\n",
    "\n",
    "# NumPy stats\n",
    "age_mean = np.mean(ages)\n",
    "age_std_pop = np.std(ages)\n",
    "age_std_sample = np.std(ages, ddof=1)\n",
    "print(\"Mean Age:\", age_mean)\n",
    "print(\"Std Dev Age (population):\", age_std_pop)\n",
    "print(\"Std Dev Age (sample):\", age_std_sample)\n",
    "\n",
    "# Simple for-loop example: manual average\n",
    "total = 0\n",
    "count = 0\n",
    "for a in ages:\n",
    "    total += a\n",
    "    count += 1\n",
    "manual_avg = total / count if count > 0 else float(\"nan\")\n",
    "print(\"Manual average (for-loop):\", manual_avg)"
   ],
   "id": "108da955fa66ae3f"
  },
  {
   "cell_type": "markdown",
   "metadata": {},
   "source": [
    "## Selecting X and Y (two ways)"
   ],
   "id": "11de87ca135d1e19"
  },
  {
   "cell_type": "code",
   "execution_count": null,
   "metadata": {},
   "outputs": [],
   "source": [
    "# Way 1: tuple assignment in one line\n",
    "x, y = df[\"Age\"].to_numpy(), df[\"Age_plus_10\"].to_numpy()\n",
    "print(x[:5], y[:5])\n",
    "\n",
    "# Way 2: separate assignments\n",
    "x = df[\"Age\"].to_numpy()\n",
    "y = df[\"Age_plus_10\"].to_numpy()\n",
    "print(x[:5], y[:5])"
   ],
   "id": "9721d8de5f83a0d3"
  },
  {
   "cell_type": "markdown",
   "metadata": {},
   "source": [
    "## Plot X vs Y"
   ],
   "id": "1b9a9a9491270686"
  },
  {
   "cell_type": "code",
   "execution_count": null,
   "metadata": {},
   "outputs": [],
   "source": [
    "plt.figure()\n",
    "plt.plot(x, y, marker=\"o\")\n",
    "plt.xlabel(\"Age (X)\")\n",
    "plt.ylabel(\"Age_plus_10 (Y)\")\n",
    "plt.title(\"Age vs Age_plus_10\")\n",
    "plt.grid(True)\n",
    "plt.show()"
   ],
   "id": "31c23e9c21e7bb7"
  },
  {
   "cell_type": "markdown",
   "metadata": {},
   "source": [
    "## Cleaning Data (Handling Missing Values)\n",
    "\n",
    "Sometimes the dataset has empty cells. Pandas shows them as NaN (Not a Number).\n",
    "We can:\n",
    "- Drop rows with missing values.\n",
    "- Fill missing values with something (like a word or a number)."
   ],
   "id": "d4cd7719fe6ab3e9"
  },
  {
   "cell_type": "code",
   "execution_count": null,
   "metadata": {},
   "outputs": [],
   "source": [
    "# Work on a copy\n",
    "df_clean = df.copy()\n",
    "\n",
    "# Add a missing value for demonstration\n",
    "df_clean.loc[2, \"City\"] = None\n",
    "print(df_clean)\n",
    "\n",
    "# Drop rows with any missing values (new DataFrame)\n",
    "dropped = df_clean.dropna()\n",
    "print(\"After dropping rows with NaN:\\n\", dropped)\n",
    "\n",
    "# Fill missing values with a default (new DataFrame)\n",
    "filled = df_clean.fillna({\"City\": \"Unknown\"})\n",
    "print(\"After filling NaN:\\n\", filled)"
   ],
   "id": "73092ae7a8872961"
  },
  {
   "cell_type": "markdown",
   "metadata": {},
   "source": [
    "## Cleaning Data (Drop Low-Variation Columns)\n",
    "\n",
    "If a column has very few unique values, it may not help. Example: a 'Size' column where almost all values are 50."
   ],
   "id": "d797cc3c65b96f9d"
  },
  {
   "cell_type": "code",
   "execution_count": null,
   "metadata": {},
   "outputs": [],
   "source": [
    "df_clean2 = df.copy()\n",
    "df_clean2[\"Size\"] = [50, 50, 50, 60, 50]\n",
    "print(df_clean2)\n",
    "print(\"Unique values in Size:\", df_clean2[\"Size\"].unique())\n",
    "\n",
    "if df_clean2[\"Size\"].nunique() <= 2:\n",
    "    df_clean2 = df_clean2.drop(columns=[\"Size\"])\n",
    "    print(\"Dropped 'Size' column because it had too few unique values\")\n",
    "\n",
    "print(df_clean2)"
   ],
   "id": "ddd016d36c7abb1d"
  },
  {
   "cell_type": "markdown",
   "metadata": {},
   "source": [
    "## Inplace vs Not Inplace\n",
    "\n",
    "- Many Pandas methods have `inplace=`.\n",
    "- `inplace=True` **modifies the DataFrame directly** and returns `None`.\n",
    "- `inplace=False` (default) **returns a new DataFrame** and leaves the original unchanged.\n",
    "\n",
    "### Examples\n",
    "```python\n",
    "# Not inplace (preferred for beginners):\n",
    "no_city_df = df.drop(columns=[\"City\"])  # df stays the same\n",
    "\n",
    "# Inplace (df is changed):\n",
    "df_copy = df.copy()\n",
    "df_copy.drop(columns=[\"City\"], inplace=True)\n",
    "```\n",
    "\n",
    "### What does `index=False` / `index=True` mean when saving?\n",
    "- DataFrames have an index (row labels). When saving to CSV/Excel:\n",
    "  - `index=False` → **do not** write the index column to the file (common for clean files).\n",
    "  - `index=True` → **include** the index column in the output file."
   ],
   "id": "f9f5b8d1e99bc531"
  },
  {
   "cell_type": "markdown",
   "metadata": {},
   "source": [
    "## Build a New DataFrame from Results"
   ],
   "id": "b89a266282c2bba7"
  },
  {
   "cell_type": "code",
   "execution_count": null,
   "metadata": {},
   "outputs": [],
   "source": [
    "xy_df = pd.DataFrame({\"Age_X\": df[\"Age\"].to_numpy(), \"AgePlus10_Y\": df[\"Age_plus_10\"].to_numpy()})\n",
    "subset_df = pd.concat([df[[\"Name\", \"City\"]], xy_df], axis=1)\n",
    "print(subset_df.head())\n",
    "\n",
    "summary_df = pd.DataFrame({\n",
    "    \"Mean_Age\": [np.mean(df[\"Age\"])],\n",
    "    \"Std_Age_pop\": [np.std(df[\"Age\"])],\n",
    "    \"Std_Age_sample\": [np.std(df[\"Age\"], ddof=1)]\n",
    "})\n",
    "print(summary_df)"
   ],
   "id": "bef8834019b585f8"
  },
  {
   "cell_type": "markdown",
   "source": [
    "## `axis` in Pandas\n",
    "\n",
    "* **`axis=0` → rows** (goes *down*).\n",
    "* **`axis=1` → columns** (goes *across*).\n",
    "\n",
    "Think:\n",
    "\n",
    "* `0` = vertical (rows).\n",
    "* `1` = horizontal (columns).\n",
    "\n",
    "---\n",
    "\n",
    "## Example: Concatenating along columns (`axis=1`)"
   ],
   "metadata": {
    "collapsed": false
   },
   "id": "eac855fead5c5b08"
  },
  {
   "cell_type": "code",
   "execution_count": null,
   "outputs": [],
   "source": [
    "import pandas as pd\n",
    "\n",
    "df1 = pd.DataFrame({\"A\": [1, 2, 3]})\n",
    "df2 = pd.DataFrame({\"B\": [10, 20, 30]})\n",
    "\n",
    "result = pd.concat([df1, df2], axis=1)\n",
    "print(result)"
   ],
   "metadata": {
    "collapsed": false
   },
   "id": "49c025163765993d"
  },
  {
   "cell_type": "markdown",
   "source": [
    "\n",
    "\n",
    "Here they align **by rows** (same index), so we get new columns.\n",
    "\n",
    "\n",
    "\n",
    "## Example: Concatenating along rows (`axis=0`)"
   ],
   "metadata": {
    "collapsed": false
   },
   "id": "e83f9d3fabb7d4c4"
  },
  {
   "cell_type": "code",
   "execution_count": null,
   "outputs": [],
   "source": [
    "\n",
    "df1 = pd.DataFrame({\"A\": [1, 2]})\n",
    "df2 = pd.DataFrame({\"A\": [3, 4]})\n",
    "\n",
    "result = pd.concat([df1, df2], axis=0)\n",
    "print(result)\n"
   ],
   "metadata": {
    "collapsed": false
   },
   "id": "1f2bfe714b8b8793"
  },
  {
   "cell_type": "markdown",
   "source": [
    "\n",
    "\n",
    "Here they stack **on top of each other**, row-wise. Notice the index repeats—you may want `ignore_index=True`."
   ],
   "metadata": {
    "collapsed": false
   },
   "id": "82908eef00ea3126"
  },
  {
   "cell_type": "code",
   "execution_count": null,
   "outputs": [],
   "source": [
    "\n",
    "result = pd.concat([df1, df2], axis=0, ignore_index=True)\n",
    "print(result)"
   ],
   "metadata": {
    "collapsed": false
   },
   "id": "ae2462d14d5f0180"
  },
  {
   "cell_type": "markdown",
   "source": [
    "\n",
    "---\n",
    "\n",
    "## What if columns don’t match?\n",
    "\n",
    "Yes — if one DataFrame has more columns than the other:"
   ],
   "metadata": {
    "collapsed": false
   },
   "id": "f7c011605c249c61"
  },
  {
   "cell_type": "code",
   "execution_count": null,
   "outputs": [],
   "source": [
    "df1 = pd.DataFrame({\"A\": [1, 2]})\n",
    "df2 = pd.DataFrame({\"B\": [10, 20]})\n",
    "\n",
    "result = pd.concat([df1, df2], axis=0)\n",
    "print(result)\n"
   ],
   "metadata": {
    "collapsed": false
   },
   "id": "e3bd99d5bb2446e5"
  },
  {
   "cell_type": "markdown",
   "source": [
    "\n",
    "Values that don’t exist become **`NaN` (None/empty)**."
   ],
   "metadata": {
    "collapsed": false
   },
   "id": "90e813ba2012888a"
  },
  {
   "cell_type": "markdown",
   "metadata": {},
   "source": [
    "## Saving Results\n",
    "\n",
    "Works the same locally, in Colab `/content/`, or in Drive `/content/drive/MyDrive/...` depending on `data_path`. Set `index=False` to avoid writing the index."
   ],
   "id": "a506987c81624449"
  },
  {
   "cell_type": "code",
   "execution_count": null,
   "metadata": {},
   "outputs": [],
   "source": [
    "# Save modified main df\n",
    "df.to_csv(data_path + \"data_modified.csv\", index=False)\n",
    "df.to_excel(data_path + \"data_modified.xlsx\", index=False)\n",
    "df.to_json(data_path + \"data_modified.json\", orient=\"records\")\n",
    "\n",
    "# Save analysis outputs\n",
    "subset_df.to_csv(data_path + \"final_xy_subset.csv\", index=False)\n",
    "summary_df.to_csv(data_path + \"summary_stats.csv\", index=False)"
   ],
   "id": "cef00e807acac389"
  },
  {
   "cell_type": "markdown",
   "metadata": {},
   "source": [
    "## Summary\n",
    "- Use `data_path` to control where files are read/written. \n",
    "    - Its better as a form of control\n",
    "\n",
    "- CSV vs Excel: different readers, same result (a DataFrame). Excel has sheets.\n",
    "- Use `[[\"col\"]]` to keep a DataFrame, `.drop(columns=[...])` to remove.\n",
    "\n",
    "- Filter with boolean expressions like `df[df[\"Age\"] > 20]`.\n",
    "- Add/modify columns directly, e.g., `df[\"Age_plus_10\"] = df[\"Age\"] + 10`.\n",
    "\n",
    "- NumPy: quickly compute stats like mean/std; simple loops are fine for teaching.\n",
    "\n",
    "- Clean data: handle NaN by dropping or filling; drop low-variation columns.\n",
    "\n",
    "- `inplace=True` changes the DataFrame; otherwise you get a new one.\n",
    "- `index=False` when saving = don't write the index column.\n",
    "\n",
    "- **`axis=1` → add columns** side by side.\n",
    "- **`axis=0` → add rows** stacked one under the other.\n",
    "    - **Mismatched columns** → missing values filled with `NaN`.\n",
    "    - Use `ignore_index=True` if you want clean row numbering after `axis=0`."
   ],
   "id": "703e93db220f1234"
  },
  {
   "cell_type": "code",
   "execution_count": null,
   "outputs": [],
   "source": [],
   "metadata": {
    "collapsed": false
   },
   "id": "5fda61309eed7677"
  }
 ],
 "metadata": {
  "kernelspec": {
   "display_name": "Python 3",
   "language": "python",
   "name": "python3"
  },
  "language_info": {
   "name": "python",
   "version": "3.x"
  }
 },
 "nbformat": 4,
 "nbformat_minor": 5
}
