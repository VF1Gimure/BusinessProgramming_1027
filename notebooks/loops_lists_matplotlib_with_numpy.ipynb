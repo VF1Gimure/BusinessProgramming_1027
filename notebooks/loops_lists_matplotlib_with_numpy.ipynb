{
 "cells": [
  {
   "cell_type": "markdown",
   "id": "3d7280b5a256bbd0",
   "metadata": {
    "collapsed": false
   },
   "source": [
    "> created by Luis S. Flores for ITESM\n",
    "> Contact: Luis_SFU@tec.mx\n",
    "> August/2025\n",
    ">"
   ]
  },
  {
   "cell_type": "markdown",
   "id": "53b2b616",
   "metadata": {},
   "source": [
    "# While Loops, Lists, and Charts in Python\n",
    "\n",
    "This notebook teaches:\n",
    "- While loops (repetition)\n",
    "- Lists (store multiple values)\n",
    "- Charts with Matplotlib\n",
    "- (New) Quick NumPy intro\n",
    "\n",
    "Keep it simple. Run cells top to bottom.\n"
   ]
  },
  {
   "cell_type": "markdown",
   "id": "01d70671",
   "metadata": {},
   "source": [
    "## While Loops — the basics\n",
    "\n",
    "A **while** loop repeats as long as a condition is `True`.\n",
    "\n",
    "Structure:\n",
    "\n",
    "```python\n",
    "#while <condition>:\n",
    "#    <indented code>\n",
    "# code continues here after loop ends\n",
    "```"
   ]
  },
  {
   "cell_type": "code",
   "execution_count": 213,
   "id": "687d5a642cf80bf8",
   "metadata": {
    "ExecuteTime": {
     "end_time": "2025-08-25T15:12:34.818258Z",
     "start_time": "2025-08-25T15:12:34.586050Z"
    },
    "collapsed": false
   },
   "outputs": [
    {
     "name": "stdout",
     "output_type": "stream",
     "text": [
      "x is: 1\n",
      "x is: 2\n",
      "x is: 3\n",
      "x is: 4\n",
      "x is: 5\n",
      "Loop finished. x is now 6\n"
     ]
    }
   ],
   "source": [
    "x = 1\n",
    "while x <= 5:\n",
    "    print(\"x is:\", x)\n",
    "    x = x + 1   # update\n",
    "print(\"Loop finished. x is now\", x)"
   ]
  },
  {
   "cell_type": "markdown",
   "id": "a2935d6582d73c57",
   "metadata": {
    "collapsed": false
   },
   "source": [
    "## Indentation in while loops\n",
    "\n",
    "- The **colon (:)** starts the loop.\n",
    "- The **indented part** is the body (what repeats).\n",
    "- After the loop ends, code **without indentation** runs once.\n"
   ]
  },
  {
   "cell_type": "code",
   "execution_count": 214,
   "id": "2efcb05a47605df6",
   "metadata": {
    "ExecuteTime": {
     "end_time": "2025-08-25T15:12:34.834891Z",
     "start_time": "2025-08-25T15:12:34.592058Z"
    },
    "collapsed": false
   },
   "outputs": [
    {
     "name": "stdout",
     "output_type": "stream",
     "text": [
      "Inside loop. n = 3\n",
      "Inside loop. n = 2\n",
      "Inside loop. n = 1\n",
      "This runs after the loop ends\n"
     ]
    }
   ],
   "source": [
    "n = 3\n",
    "while n > 0:\n",
    "    print(\"Inside loop. n =\", n)  # repeated\n",
    "    n = n - 1\n",
    "print(\"This runs after the loop ends\")  # not repeated"
   ]
  },
  {
   "cell_type": "markdown",
   "id": "b9a7247129e7f90e",
   "metadata": {
    "collapsed": false
   },
   "source": [
    "## Infinite loop with `True` and `break`\n",
    "\n",
    "We can write `while True:` to loop forever, and use `break` to stop.\n"
   ]
  },
  {
   "cell_type": "code",
   "execution_count": 215,
   "id": "496839020285008f",
   "metadata": {
    "ExecuteTime": {
     "end_time": "2025-08-25T15:12:34.837270Z",
     "start_time": "2025-08-25T15:12:34.598030Z"
    },
    "collapsed": false
   },
   "outputs": [
    {
     "name": "stdout",
     "output_type": "stream",
     "text": [
      "count is 0\n",
      "count is 1\n",
      "count is 2\n",
      "Loop stopped with break\n"
     ]
    }
   ],
   "source": [
    "count = 0\n",
    "while True:\n",
    "    print(\"count is\", count)\n",
    "    count = count + 1\n",
    "    if count == 3:\n",
    "        break   # leave the loop\n",
    "print(\"Loop stopped with break\")"
   ]
  },
  {
   "cell_type": "markdown",
   "id": "1e6890970295e98a",
   "metadata": {
    "collapsed": false
   },
   "source": [
    "## Using `continue`\n",
    "\n",
    "`continue` skips the rest of the body and goes to the next loop check.\n"
   ]
  },
  {
   "cell_type": "code",
   "execution_count": 216,
   "id": "e80508aa70ac32aa",
   "metadata": {
    "ExecuteTime": {
     "end_time": "2025-08-25T15:12:35.007108Z",
     "start_time": "2025-08-25T15:12:34.603156Z"
    },
    "collapsed": false
   },
   "outputs": [
    {
     "name": "stdout",
     "output_type": "stream",
     "text": [
      "Odd number: 1\n",
      "Odd number: 3\n",
      "Odd number: 5\n"
     ]
    }
   ],
   "source": [
    "x = 0\n",
    "while x < 6:\n",
    "    x = x + 1\n",
    "    if x % 2 == 0:\n",
    "        continue     # skip even numbers\n",
    "    print(\"Odd number:\", x)"
   ]
  },
  {
   "cell_type": "markdown",
   "id": "95a6d7a0b9c0a56f",
   "metadata": {
    "collapsed": false
   },
   "source": [
    "## Counter\n",
    "\n",
    "A **counter** is a variable that changes by a fixed step (often +1).\n"
   ]
  },
  {
   "cell_type": "code",
   "execution_count": 217,
   "id": "49e0669c3667949c",
   "metadata": {
    "ExecuteTime": {
     "end_time": "2025-08-25T15:12:35.009667Z",
     "start_time": "2025-08-25T15:12:34.607924Z"
    },
    "collapsed": false
   },
   "outputs": [
    {
     "name": "stdout",
     "output_type": "stream",
     "text": [
      "Counter now: 1\n",
      "Counter now: 2\n",
      "Counter now: 3\n",
      "Counter now: 4\n",
      "Counter now: 5\n"
     ]
    }
   ],
   "source": [
    "count = 0\n",
    "while count < 5:\n",
    "    count = count + 1\n",
    "    print(\"Counter now:\", count)"
   ]
  },
  {
   "cell_type": "markdown",
   "id": "ca0eea837647f98b",
   "metadata": {
    "collapsed": false
   },
   "source": [
    "## Accumulator\n",
    "\n",
    "An **accumulator** is a variable that adds different values each time.\n",
    "(No lists yet.)\n"
   ]
  },
  {
   "cell_type": "code",
   "execution_count": 218,
   "id": "e76e7278092adc77",
   "metadata": {
    "ExecuteTime": {
     "end_time": "2025-08-25T15:12:35.011977Z",
     "start_time": "2025-08-25T15:12:34.613204Z"
    },
    "collapsed": false
   },
   "outputs": [
    {
     "name": "stdout",
     "output_type": "stream",
     "text": [
      "Final accumulator: 8\n"
     ]
    }
   ],
   "source": [
    "total = 0\n",
    "total = total + 2\n",
    "total = total + 5\n",
    "total = total + 1\n",
    "print(\"Final accumulator:\", total)"
   ]
  },
  {
   "cell_type": "markdown",
   "id": "c7d94b1f1d0e1482",
   "metadata": {
    "collapsed": false
   },
   "source": [
    "### Accumulator with `while` (still no lists)\n",
    "\n",
    "We can also add a changing value each step.\n"
   ]
  },
  {
   "cell_type": "code",
   "execution_count": 219,
   "id": "203e06d0dce8deec",
   "metadata": {
    "ExecuteTime": {
     "end_time": "2025-08-25T15:12:35.023764Z",
     "start_time": "2025-08-25T15:12:34.617801Z"
    },
    "collapsed": false
   },
   "outputs": [
    {
     "name": "stdout",
     "output_type": "stream",
     "text": [
      "Accumulator: 20\n"
     ]
    }
   ],
   "source": [
    "total = 0\n",
    "k = 1\n",
    "while k <= 4:\n",
    "    total = total + (k * 2)   # adds 2, 4, 6, 8\n",
    "    k = k + 1\n",
    "print(\"Accumulator:\", total)"
   ]
  },
  {
   "cell_type": "markdown",
   "id": "adaa4a4ce20bfd8f",
   "metadata": {
    "collapsed": false
   },
   "source": [
    "## Lists — basics\n",
    "\n",
    "A list stores multiple values in one variable.\n",
    "- Written with square brackets `[ ]`\n",
    "- First item is index **0**\n",
    "- `len(list)` gives the number of items\n",
    "- There is **no** `size()` for Python lists — use `len(...)`\n"
   ]
  },
  {
   "cell_type": "code",
   "execution_count": 220,
   "id": "7e8f0ca29687cba6",
   "metadata": {
    "ExecuteTime": {
     "end_time": "2025-08-25T15:12:35.031734Z",
     "start_time": "2025-08-25T15:12:34.622684Z"
    },
    "collapsed": false
   },
   "outputs": [
    {
     "name": "stdout",
     "output_type": "stream",
     "text": [
      "Index 0: apple\n",
      "Index 1: banana\n",
      "How many items: 3\n",
      "Last item: cherry\n"
     ]
    }
   ],
   "source": [
    "fruits = [\"apple\", \"banana\", \"cherry\"]\n",
    "\n",
    "print(\"Index 0:\", fruits[0])\n",
    "print(\"Index 1:\", fruits[1])\n",
    "print(\"How many items:\", len(fruits))\n",
    "\n",
    "last_index = len(fruits) - 1\n",
    "print(\"Last item:\", fruits[last_index])"
   ]
  },
  {
   "cell_type": "markdown",
   "id": "de284f9943a63d4b",
   "metadata": {
    "collapsed": false
   },
   "source": [
    "## Empty list, append, and change\n",
    "\n",
    "- Start empty with `[]`\n",
    "- `append(x)` puts `x` at the **end**\n",
    "- Change by index with assignment\n"
   ]
  },
  {
   "cell_type": "code",
   "execution_count": 221,
   "id": "eb6622c73bbccd58",
   "metadata": {
    "ExecuteTime": {
     "end_time": "2025-08-25T15:12:35.034181Z",
     "start_time": "2025-08-25T15:12:34.627340Z"
    },
    "collapsed": false
   },
   "outputs": [
    {
     "name": "stdout",
     "output_type": "stream",
     "text": [
      "After appends: [90, 85]\n",
      "Before append: [90, 85, 78]\n",
      "After append: [90, 85, 78, 100]\n",
      "After change: [90, 88, 78, 100]\n"
     ]
    }
   ],
   "source": [
    "grades = []            # empty list\n",
    "grades.append(90)        # [90]\n",
    "grades.append(85)        # [90, 85]\n",
    "print(\"After appends:\", grades)\n",
    "\n",
    "grades = [90, 85, 78]\n",
    "print(\"Before append:\", grades)\n",
    "grades.append(100)\n",
    "print(\"After append:\", grades)\n",
    "\n",
    "grades[1] = 88           # change second item\n",
    "print(\"After change:\", grades)"
   ]
  },
  {
   "cell_type": "markdown",
   "id": "5c5b75202aec6e5f",
   "metadata": {
    "collapsed": false
   },
   "source": [
    "## More list operations\n",
    "\n",
    "- `insert(pos, value)` → add at position\n",
    "- `extend([values])` → add many at once\n",
    "- `remove(value)` → remove first match\n",
    "- `pop()` → remove last item\n",
    "- `len(list)` → how many items\n"
   ]
  },
  {
   "cell_type": "code",
   "execution_count": 222,
   "id": "468c4f7b9294cd5f",
   "metadata": {
    "ExecuteTime": {
     "end_time": "2025-08-25T15:12:35.036467Z",
     "start_time": "2025-08-25T15:12:34.632299Z"
    },
    "collapsed": false
   },
   "outputs": [
    {
     "name": "stdout",
     "output_type": "stream",
     "text": [
      "After insert and extend: [10, 15, 20, 30, 40, 50]\n",
      "After remove: [10, 15, 30, 40, 50]\n",
      "After pop: [10, 15, 30, 40] popped: 50\n",
      "Length is 4\n"
     ]
    }
   ],
   "source": [
    "nums = [10, 20, 30]\n",
    "nums.insert(1, 15)\n",
    "nums.extend([40, 50])\n",
    "print(\"After insert and extend:\", nums)\n",
    "\n",
    "nums.remove(20)\n",
    "print(\"After remove:\", nums)\n",
    "\n",
    "last = nums.pop()\n",
    "print(\"After pop:\", nums, \"popped:\", last)\n",
    "\n",
    "print(\"Length is\", len(nums))"
   ]
  },
  {
   "cell_type": "markdown",
   "id": "aa689d9336deead3",
   "metadata": {
    "collapsed": false
   },
   "source": [
    "## List Slices (read parts of a list)\n",
    "\n",
    "Form: `list[start:end:step]`\n",
    "\n",
    "- **start** → index to begin (default = 0)  \n",
    "- **end** → index to stop *before* (default = len(list))  \n",
    "- **step** → how much to jump each time (default = 1)  \n"
   ]
  },
  {
   "cell_type": "code",
   "execution_count": 223,
   "id": "7c71c9b4d8152bd4",
   "metadata": {
    "ExecuteTime": {
     "end_time": "2025-08-25T15:12:35.043044Z",
     "start_time": "2025-08-25T15:12:34.636531Z"
    },
    "collapsed": false
   },
   "outputs": [
    {
     "name": "stdout",
     "output_type": "stream",
     "text": [
      "data[:]     -> [10, 20, 30, 40, 50, 60]\n",
      "data[1:4]   -> [20, 30, 40]\n",
      "data[:3]    -> [10, 20, 30]\n",
      "data[3:]    -> [40, 50, 60]\n",
      "data[::2]   -> [10, 30, 50]\n",
      "data[1::2]  -> [20, 40, 60]\n",
      "data[::3]   -> [10, 40]\n"
     ]
    }
   ],
   "source": [
    "data = [10, 20, 30, 40, 50, 60]\n",
    "# indexes:   0   1   2   3   4   5\n",
    "\n",
    "print(\"data[:]     ->\", data[:])      # copy whole list\n",
    "print(\"data[1:4]   ->\", data[1:4])    # 1,2,3\n",
    "print(\"data[:3]    ->\", data[:3])     # start..2\n",
    "print(\"data[3:]    ->\", data[3:])     # 3..end\n",
    "\n",
    "print(\"data[::2]   ->\", data[::2])    # step 2: [10, 30, 50]\n",
    "print(\"data[1::2]  ->\", data[1::2])   # start at 1, step 2: [20, 40, 60]\n",
    "print(\"data[::3]   ->\", data[::3])    # step 3: [10, 40]"
   ]
  },
  {
   "cell_type": "markdown",
   "id": "9d2747ae09fe7cfa",
   "metadata": {
    "collapsed": false
   },
   "source": [
    "## Negative indexes and negative step\n",
    "\n",
    "- Negative indexes count from the end (`-1` = last).  \n",
    "- Negative step goes backwards.\n"
   ]
  },
  {
   "cell_type": "code",
   "execution_count": 224,
   "id": "578f51962e11ef0e",
   "metadata": {
    "ExecuteTime": {
     "end_time": "2025-08-25T15:12:35.045168Z",
     "start_time": "2025-08-25T15:12:34.640580Z"
    },
    "collapsed": false
   },
   "outputs": [
    {
     "name": "stdout",
     "output_type": "stream",
     "text": [
      "data[-1]    -> 60\n",
      "data[-3:]   -> [40, 50, 60]\n",
      "data[::-1]  -> [60, 50, 40, 30, 20, 10]\n",
      "data[5:2:-1]-> [60, 50, 40]\n"
     ]
    }
   ],
   "source": [
    "data = [10, 20, 30, 40, 50, 60]\n",
    "\n",
    "print(\"data[-1]    ->\", data[-1])     # last item\n",
    "print(\"data[-3:]   ->\", data[-3:])    # last 3\n",
    "print(\"data[::-1]  ->\", data[::-1])   # reverse\n",
    "print(\"data[5:2:-1]->\", data[5:2:-1]) # 5 down to 3"
   ]
  },
  {
   "cell_type": "markdown",
   "id": "fcfa2ec249825afd",
   "metadata": {
    "collapsed": false
   },
   "source": [
    "## Slice Assignment (replace parts)\n",
    "\n",
    "Because lists are mutable, slices can be replaced.\n"
   ]
  },
  {
   "cell_type": "code",
   "execution_count": 225,
   "id": "288066e5ff397a71",
   "metadata": {
    "ExecuteTime": {
     "end_time": "2025-08-25T15:12:35.047248Z",
     "start_time": "2025-08-25T15:12:34.644952Z"
    },
    "collapsed": false
   },
   "outputs": [
    {
     "name": "stdout",
     "output_type": "stream",
     "text": [
      "[1, 2, 99, 100, 6]\n",
      "[1, 7, 8, 2, 99, 100, 6]\n",
      "[2, 99, 100, 6]\n"
     ]
    }
   ],
   "source": [
    "nums = [1, 2, 3, 4, 5, 6]\n",
    "nums[2:5] = [99, 100]     # replace indices 2,3,4\n",
    "print(nums)\n",
    "\n",
    "nums[1:1] = [7, 8]        # insert at index 1\n",
    "print(nums)\n",
    "\n",
    "nums[0:3] = []            # delete a slice\n",
    "print(nums)"
   ]
  },
  {
   "cell_type": "markdown",
   "id": "8ddc6a9f536550a7",
   "metadata": {
    "collapsed": false
   },
   "source": [
    "## Operations on Lists\n",
    "\n",
    "- Concatenate: `a + b`  \n",
    "- Repeat: `a * n`  \n",
    "- Membership: `x in a`, `x not in a`  \n",
    "- Min/Max/Sum: `min(a)`, `max(a)`, `sum(a)`  \n",
    "- Sorted copy: `sorted(a)` (new list)  \n",
    "- In-place sort: `a.sort()` (changes original)  \n"
   ]
  },
  {
   "cell_type": "code",
   "execution_count": 226,
   "id": "705bec7f09d5f241",
   "metadata": {
    "ExecuteTime": {
     "end_time": "2025-08-25T15:12:35.049282Z",
     "start_time": "2025-08-25T15:12:34.649344Z"
    },
    "collapsed": false
   },
   "outputs": [
    {
     "name": "stdout",
     "output_type": "stream",
     "text": [
      "a + b     -> [3, 1, 2, 9, 8]\n",
      "a * 3     -> [3, 1, 2, 3, 1, 2, 3, 1, 2]\n",
      "2 in a    -> True\n",
      "min/max   -> 1 3\n",
      "sum(a)    -> 6\n",
      "sorted(a) -> [1, 2, 3]  ; original a: [3, 1, 2]\n",
      "after a.sort(): [1, 2, 3]\n"
     ]
    }
   ],
   "source": [
    "a = [3, 1, 2]\n",
    "b = [9, 8]\n",
    "\n",
    "print(\"a + b     ->\", a + b)\n",
    "print(\"a * 3     ->\", a * 3)\n",
    "print(\"2 in a    ->\", 2 in a)\n",
    "print(\"min/max   ->\", min(a), max(a))\n",
    "print(\"sum(a)    ->\", sum(a))\n",
    "print(\"sorted(a) ->\", sorted(a), \" ; original a:\", a)\n",
    "\n",
    "a.sort()\n",
    "print(\"after a.sort():\", a)"
   ]
  },
  {
   "cell_type": "markdown",
   "id": "e1814eeee289f4d3",
   "metadata": {
    "collapsed": false
   },
   "source": [
    "## Proper Ways to Delete Items\n",
    "\n",
    "- By position (and return value): `pop(index)` (default = last)  \n",
    "- By position (no return): `del lst[index]`  \n",
    "- By value: `remove(value)` (first match)  \n",
    "- By slice: `del lst[a:b]`  \n",
    "- Clear all: `clear()`  \n"
   ]
  },
  {
   "cell_type": "code",
   "execution_count": 227,
   "id": "5ded268513a97862",
   "metadata": {
    "ExecuteTime": {
     "end_time": "2025-08-25T15:12:35.051346Z",
     "start_time": "2025-08-25T15:12:34.653738Z"
    },
    "collapsed": false
   },
   "outputs": [
    {
     "name": "stdout",
     "output_type": "stream",
     "text": [
      "pop() -> 50 ; [10, 20, 30, 40]\n",
      "pop(1) -> 20 ; [10, 30, 40]\n",
      "del[0] -> [30, 40]\n",
      "remove(40) -> [30]\n",
      "del slice -> [30, 80, 90]\n",
      "clear() -> []\n"
     ]
    }
   ],
   "source": [
    "vals = [10, 20, 30, 40, 50]\n",
    "\n",
    "last = vals.pop()         # removes 50, returns it\n",
    "print(\"pop() ->\", last, \";\", vals)\n",
    "\n",
    "item = vals.pop(1)        # removes index 1 (20)\n",
    "print(\"pop(1) ->\", item, \";\", vals)\n",
    "\n",
    "del vals[0]               # remove index 0 (10)\n",
    "print(\"del[0] ->\", vals)\n",
    "\n",
    "vals.remove(40)           # remove value 40\n",
    "print(\"remove(40) ->\", vals)\n",
    "\n",
    "vals.extend([60,70,80,90])\n",
    "del vals[1:3]             # delete a slice\n",
    "print(\"del slice ->\", vals)\n",
    "\n",
    "vals.clear()              # remove everything\n",
    "print(\"clear() ->\", vals)"
   ]
  },
  {
   "cell_type": "markdown",
   "id": "fac5ef9eb058cd56",
   "metadata": {
    "collapsed": false
   },
   "source": [
    "### Safe Remove\n",
    "\n",
    "`remove(value)` raises an error if value is not found. Check first.\n"
   ]
  },
  {
   "cell_type": "code",
   "execution_count": 228,
   "id": "f779a9acd9c7a4fc",
   "metadata": {
    "ExecuteTime": {
     "end_time": "2025-08-25T15:12:35.057417Z",
     "start_time": "2025-08-25T15:12:34.657305Z"
    },
    "collapsed": false
   },
   "outputs": [
    {
     "name": "stdout",
     "output_type": "stream",
     "text": [
      "4 not in list, nothing removed.\n",
      "[1, 2, 3]\n"
     ]
    }
   ],
   "source": [
    "items = [1, 2, 3]\n",
    "target = 4\n",
    "\n",
    "if target in items:\n",
    "    items.remove(target)\n",
    "else:\n",
    "    print(target, \"not in list, nothing removed.\")\n",
    "print(items)"
   ]
  },
  {
   "cell_type": "markdown",
   "id": "28fac811cab8767b",
   "metadata": {
    "collapsed": false
   },
   "source": [
    "## For loops\n",
    "\n",
    "A **for** loop repeats over a sequence (like a list).\n",
    "Often simpler than `while` when you already have the items.\n"
   ]
  },
  {
   "cell_type": "code",
   "execution_count": 229,
   "id": "13e17b9a412ffaa6",
   "metadata": {
    "ExecuteTime": {
     "end_time": "2025-08-25T15:12:35.059716Z",
     "start_time": "2025-08-25T15:12:34.661372Z"
    },
    "collapsed": false
   },
   "outputs": [
    {
     "name": "stdout",
     "output_type": "stream",
     "text": [
      "Fruit: apple\n",
      "Fruit: banana\n",
      "Fruit: cherry\n"
     ]
    }
   ],
   "source": [
    "fruits = [\"apple\", \"banana\", \"cherry\"]\n",
    "\n",
    "for f in fruits:\n",
    "    print(\"Fruit:\", f)"
   ]
  },
  {
   "cell_type": "markdown",
   "id": "c00b100ada94e247",
   "metadata": {
    "collapsed": false
   },
   "source": [
    "### For with `range()`\n",
    "\n",
    "`range(n)` gives numbers from 0 up to n-1.\n"
   ]
  },
  {
   "cell_type": "code",
   "execution_count": 230,
   "id": "d47e9c9627e08159",
   "metadata": {
    "ExecuteTime": {
     "end_time": "2025-08-25T15:12:35.061913Z",
     "start_time": "2025-08-25T15:12:34.665506Z"
    },
    "collapsed": false
   },
   "outputs": [
    {
     "name": "stdout",
     "output_type": "stream",
     "text": [
      "i is: 0\n",
      "i is: 1\n",
      "i is: 2\n",
      "i is: 3\n",
      "i is: 4\n"
     ]
    }
   ],
   "source": [
    "for i in range(5):\n",
    "    print(\"i is:\", i)"
   ]
  },
  {
   "cell_type": "markdown",
   "id": "2923b99af0d8763a",
   "metadata": {
    "collapsed": false
   },
   "source": [
    "### For with list indexes (using `len`)"
   ]
  },
  {
   "cell_type": "code",
   "execution_count": 231,
   "id": "16cbc2c6599c1885",
   "metadata": {
    "ExecuteTime": {
     "end_time": "2025-08-25T15:12:35.067467Z",
     "start_time": "2025-08-25T15:12:34.669776Z"
    },
    "collapsed": false
   },
   "outputs": [
    {
     "name": "stdout",
     "output_type": "stream",
     "text": [
      "Index 0 has grade 90\n",
      "Index 1 has grade 85\n",
      "Index 2 has grade 78\n"
     ]
    }
   ],
   "source": [
    "grades = [90, 85, 78]\n",
    "\n",
    "for i in range(len(grades)):   # indexes: 0,1,2\n",
    "    print(\"Index\", i, \"has grade\", grades[i])"
   ]
  },
  {
   "cell_type": "markdown",
   "id": "be41356f170941e",
   "metadata": {
    "collapsed": false
   },
   "source": [
    "### For with `enumerate()`\n",
    "\n",
    "Gives both index and value at the same time.\n"
   ]
  },
  {
   "cell_type": "code",
   "execution_count": 232,
   "id": "89c851eb41e361c3",
   "metadata": {
    "ExecuteTime": {
     "end_time": "2025-08-25T15:12:35.069758Z",
     "start_time": "2025-08-25T15:12:34.674399Z"
    },
    "collapsed": false
   },
   "outputs": [
    {
     "name": "stdout",
     "output_type": "stream",
     "text": [
      "Index 0 has grade 90\n",
      "Index 1 has grade 85\n",
      "Index 2 has grade 78\n"
     ]
    }
   ],
   "source": [
    "grades = [90, 85, 78]\n",
    "\n",
    "for index, value in enumerate(grades):\n",
    "    print(\"Index\", index, \"has grade\", value)"
   ]
  },
  {
   "cell_type": "markdown",
   "id": "76abae9f934afea8",
   "metadata": {
    "collapsed": false
   },
   "source": [
    "## While vs For — looping through a list\n",
    "\n",
    "Both can loop a list; style differs.\n"
   ]
  },
  {
   "cell_type": "code",
   "execution_count": 233,
   "id": "3f1fbb4b8c014933",
   "metadata": {
    "ExecuteTime": {
     "end_time": "2025-08-25T15:12:35.072267Z",
     "start_time": "2025-08-25T15:12:34.678915Z"
    },
    "collapsed": false
   },
   "outputs": [
    {
     "name": "stdout",
     "output_type": "stream",
     "text": [
      "While -> Index 0 Grade 90\n",
      "While -> Index 1 Grade 85\n",
      "While -> Index 2 Grade 78\n",
      "For -> Index 0 Grade 90\n",
      "For -> Index 1 Grade 85\n",
      "For -> Index 2 Grade 78\n",
      "For (direct) -> Grade 90\n",
      "For (direct) -> Grade 85\n",
      "For (direct) -> Grade 78\n"
     ]
    }
   ],
   "source": [
    "grades = [90, 85, 78]\n",
    "\n",
    "# Using while\n",
    "i = 0\n",
    "while i < len(grades):\n",
    "    print(\"While -> Index\", i, \"Grade\", grades[i])\n",
    "    i = i + 1\n",
    "\n",
    "# Using for with range\n",
    "for i in range(len(grades)):\n",
    "    print(\"For -> Index\", i, \"Grade\", grades[i])\n",
    "\n",
    "# Using for directly\n",
    "for grade in grades:\n",
    "    print(\"For (direct) -> Grade\", grade)"
   ]
  },
  {
   "cell_type": "markdown",
   "id": "fad808d48e290ae5",
   "metadata": {
    "collapsed": false
   },
   "source": [
    "### Break and Continue note\n",
    "\n",
    "Both `while` and `for` support:\n",
    "- **`break`** → exit the loop early.\n",
    "- **`continue`** → skip the rest of the body and jump to the next iteration.\n"
   ]
  },
  {
   "cell_type": "markdown",
   "id": "d3e8303ee4e28d08",
   "metadata": {
    "collapsed": false
   },
   "source": [
    "## Break and Continue inside a For loop"
   ]
  },
  {
   "cell_type": "code",
   "execution_count": 234,
   "id": "6fc7355145819c5",
   "metadata": {
    "ExecuteTime": {
     "end_time": "2025-08-25T15:12:35.074910Z",
     "start_time": "2025-08-25T15:12:34.686129Z"
    },
    "collapsed": false
   },
   "outputs": [
    {
     "name": "stdout",
     "output_type": "stream",
     "text": [
      "Grade: 90\n",
      "Grade: 85\n"
     ]
    }
   ],
   "source": [
    "grades = [90, 85, 78, 92, 88]\n",
    "\n",
    "for g in grades:\n",
    "    if g < 80:\n",
    "        continue      # skip low grades\n",
    "    if g > 90:\n",
    "        break         # stop completely\n",
    "    print(\"Grade:\", g)"
   ]
  },
  {
   "cell_type": "markdown",
   "id": "2d47f6712e17a298",
   "metadata": {
    "collapsed": false
   },
   "source": [
    "### Important Note on Break\n",
    "\n",
    "<span style=\"color:red; font-size:18px\">⚠️ Do NOT make `break` your normal thought process.</span>  \n",
    "\n",
    "- `break` is sometimes necessary (like stopping when something goes very wrong), but it should be an **exception**, not the default way to design loops.\n",
    "- `continue` has more natural uses (like skipping unwanted items), but it should also be used carefully.\n",
    "- The normal way: design the loop condition so it ends naturally, without `break`.\n"
   ]
  },
  {
   "cell_type": "markdown",
   "id": "2e02b5420c4f1c88",
   "metadata": {
    "collapsed": false
   },
   "source": [
    "## Charts with Matplotlib — examples\n",
    "\n",
    "Matplotlib draws simple plots. In Colab it is already installed.\n"
   ]
  },
  {
   "cell_type": "markdown",
   "id": "f393ee0192f14057",
   "metadata": {
    "collapsed": false
   },
   "source": [
    "### Matplotlib style short-codes (colors / markers / line styles)\n",
    "\n",
    "| Code | Color   | Code | Marker         | Code | Line style |\n",
    "|-----:|---------|-----:|----------------|-----:|------------|\n",
    "|  `b` | blue    |  `.` | point          |  `-` | solid      |\n",
    "|  `g` | green   |  `o` | circle         |  `:` | dotted     |\n",
    "|  `r` | red     |  `x` | x-mark         | `-.` | dashdot    |\n",
    "|  `c` | cyan    |  `+` | plus           | `--` | dashed     |\n",
    "|  `m` | magenta |  `*` | star           |      | *(none)*   |\n",
    "|  `y` | yellow  |  `s` | square         |      |            |\n",
    "|  `k` | black   |  `d` | diamond        |      |            |\n",
    "|  `w` | white   |  `v` | triangle down  |      |            |\n",
    "|      |         |  `^` | triangle up    |      |            |\n",
    "|      |         |  `<` | triangle left  |      |            |\n",
    "|      |         |  `>` | triangle right |      |            |\n",
    "|      |         |  `p` | pentagon       |      |            |\n",
    "|      |         |  `h` | hexagram       |      |            |\n",
    "\n",
    "> You can combine them in format strings like `'o-'` (circle markers with solid line).\n"
   ]
  },
  {
   "cell_type": "markdown",
   "id": "4d1409429fcbff39",
   "metadata": {
    "collapsed": false
   },
   "source": [
    "### 1) Line chart (simple)"
   ]
  },
  {
   "cell_type": "code",
   "execution_count": 235,
   "id": "a47dff074d401dea",
   "metadata": {
    "ExecuteTime": {
     "end_time": "2025-08-25T15:12:35.113404Z",
     "start_time": "2025-08-25T15:12:34.702786Z"
    },
    "collapsed": false
   },
   "outputs": [
    {
     "data": {
      "image/png": "[encoded data removed]",
      "text/plain": [
       "<Figure size 640x480 with 1 Axes>"
      ]
     },
     "metadata": {},
     "output_type": "display_data"
    }
   ],
   "source": [
    "import matplotlib.pyplot as plt\n",
    "\n",
    "days = [1, 2, 3, 4, 5]\n",
    "temperature = [22, 24, 19, 23, 25]\n",
    "\n",
    "plt.plot(days, temperature)\n",
    "plt.title(\"Temperature over Days\")\n",
    "plt.xlabel(\"Day\")\n",
    "plt.ylabel(\"Temperature (°C)\")\n",
    "plt.show()"
   ]
  },
  {
   "cell_type": "markdown",
   "id": "18543d9d156f79b",
   "metadata": {
    "collapsed": false
   },
   "source": [
    "### 2) Bar chart (one series)"
   ]
  },
  {
   "cell_type": "code",
   "execution_count": 236,
   "id": "fc0d79201d884a66",
   "metadata": {
    "ExecuteTime": {
     "end_time": "2025-08-25T15:12:35.126245Z",
     "start_time": "2025-08-25T15:12:34.753165Z"
    },
    "collapsed": false
   },
   "outputs": [
    {
     "data": {
      "image/png": "[encoded data removed]",
      "text/plain": [
       "<Figure size 640x480 with 1 Axes>"
      ]
     },
     "metadata": {},
     "output_type": "display_data"
    }
   ],
   "source": [
    "cities = [\"Paris\", \"London\", \"Rome\", \"Berlin\"]\n",
    "visitors = [120, 95, 80, 70]\n",
    "\n",
    "plt.bar(cities, visitors)\n",
    "plt.title(\"Tourists by City\")\n",
    "plt.xlabel(\"City\")\n",
    "plt.ylabel(\"Visitors (millions)\")\n",
    "plt.show()"
   ]
  },
  {
   "cell_type": "markdown",
   "id": "93188d99a1c1116b",
   "metadata": {
    "collapsed": false
   },
   "source": [
    "### 3) Bar chart (two series side by side)\n",
    "\n",
    "Call `plt.bar` once per dataset and offset the bars.\n"
   ]
  },
  {
   "cell_type": "code",
   "execution_count": 237,
   "id": "d6d031aa9e29803a",
   "metadata": {
    "ExecuteTime": {
     "end_time": "2025-08-25T15:12:35.153682Z",
     "start_time": "2025-08-25T15:12:34.799077Z"
    },
    "collapsed": false
   },
   "outputs": [
    {
     "data": {
      "image/png": "[encoded data removed]",
      "text/plain": [
       "<Figure size 640x480 with 1 Axes>"
      ]
     },
     "metadata": {},
     "output_type": "display_data"
    }
   ],
   "source": [
    "cities = [\"Paris\", \"London\", \"Rome\", \"Berlin\"]\n",
    "visitors_2022 = [120, 95, 80, 70]\n",
    "visitors_2023 = [130, 100, 85, 75]\n",
    "\n",
    "x = list(range(len(cities)))\n",
    "width = 0.4\n",
    "\n",
    "x_left  = [xi - width/2 for xi in x]\n",
    "x_right = [xi + width/2 for xi in x]\n",
    "\n",
    "plt.bar(x_left, visitors_2022, width, label=\"2022\")\n",
    "plt.bar(x_right, visitors_2023, width, label=\"2023\")\n",
    "\n",
    "plt.xticks(x, cities)\n",
    "plt.title(\"Tourists in Cities 2022 vs 2023\")\n",
    "plt.xlabel(\"Cities\")\n",
    "plt.ylabel(\"Visitors (millions)\")\n",
    "plt.legend()\n",
    "plt.show()"
   ]
  },
  {
   "cell_type": "markdown",
   "id": "58e2ec1d0ac4dd46",
   "metadata": {
    "collapsed": false
   },
   "source": [
    "### 4) Scatter plot with triangle and pentagon markers"
   ]
  },
  {
   "cell_type": "code",
   "execution_count": 238,
   "id": "50c185f50e9e22e4",
   "metadata": {
    "ExecuteTime": {
     "end_time": "2025-08-25T15:12:35.153906Z",
     "start_time": "2025-08-25T15:12:34.857190Z"
    },
    "collapsed": false
   },
   "outputs": [
    {
     "data": {
      "image/png": "[encoded data removed]",
      "text/plain": [
       "<Figure size 640x480 with 1 Axes>"
      ]
     },
     "metadata": {},
     "output_type": "display_data"
    }
   ],
   "source": [
    "x1 = [1, 2, 3, 4]\n",
    "y1 = [2, 3, 2, 4]\n",
    "\n",
    "x2 = [1.2, 2.2, 3.2, 4.2]\n",
    "y2 = [2.5, 2.8, 3.1, 3.5]\n",
    "\n",
    "plt.scatter(x1, y1, marker='^', label='Triangles')  # triangle up\n",
    "plt.scatter(x2, y2, marker='p', label='Pentagons')  # pentagon\n",
    "\n",
    "plt.title(\"Markers example: triangles and pentagons\")\n",
    "plt.xlabel(\"X\")\n",
    "plt.ylabel(\"Y\")\n",
    "plt.legend()\n",
    "plt.show()"
   ]
  },
  {
   "cell_type": "markdown",
   "id": "5542936a96dff7f",
   "metadata": {
    "collapsed": false
   },
   "source": [
    "### 5) Pie chart"
   ]
  },
  {
   "cell_type": "code",
   "execution_count": 239,
   "id": "76965c62cdc27f96",
   "metadata": {
    "ExecuteTime": {
     "end_time": "2025-08-25T15:12:35.153995Z",
     "start_time": "2025-08-25T15:12:34.917633Z"
    },
    "collapsed": false
   },
   "outputs": [
    {
     "data": {
      "image/png": "[encoded data removed]",
      "text/plain": [
       "<Figure size 640x480 with 1 Axes>"
      ]
     },
     "metadata": {},
     "output_type": "display_data"
    }
   ],
   "source": [
    "sizes = [40, 35, 15, 10]\n",
    "labels = [\"Apples\", \"Bananas\", \"Cherries\", \"Dates\"]\n",
    "\n",
    "plt.pie(sizes, labels=labels, autopct='%1.1f%%')\n",
    "plt.title(\"Fruit Sales Share\")\n",
    "plt.show()"
   ]
  },
  {
   "cell_type": "markdown",
   "id": "3b00c815ebaa8f2",
   "metadata": {
    "collapsed": false
   },
   "source": [
    "### 6) Customizing charts"
   ]
  },
  {
   "cell_type": "code",
   "execution_count": 240,
   "id": "606e886ae34b28c4",
   "metadata": {
    "ExecuteTime": {
     "end_time": "2025-08-25T15:12:35.158653Z",
     "start_time": "2025-08-25T15:12:34.947439Z"
    },
    "collapsed": false
   },
   "outputs": [
    {
     "data": {
      "image/png": "[encoded data removed]",
      "text/plain": [
       "<Figure size 640x480 with 1 Axes>"
      ]
     },
     "metadata": {},
     "output_type": "display_data"
    }
   ],
   "source": [
    "days = [1, 2, 3, 4, 5]\n",
    "temperature = [22, 24, 19, 23, 25]\n",
    "\n",
    "# Example of markers and line style together; color left to default.\n",
    "plt.plot(days, temperature, marker='o', linestyle='--')\n",
    "plt.title(\"Temperature over Days (styled)\")\n",
    "plt.xlabel(\"Day\")\n",
    "plt.ylabel(\"Temperature (°C)\")\n",
    "plt.grid(True)\n",
    "plt.show()"
   ]
  },
  {
   "cell_type": "markdown",
   "id": "935958d0780590f7",
   "metadata": {
    "collapsed": false
   },
   "source": [
    "## Basic statistics on lists"
   ]
  },
  {
   "cell_type": "code",
   "execution_count": 241,
   "id": "9f72320eba938964",
   "metadata": {
    "ExecuteTime": {
     "end_time": "2025-08-25T15:12:35.158743Z",
     "start_time": "2025-08-25T15:12:34.998359Z"
    },
    "collapsed": false
   },
   "outputs": [
    {
     "name": "stdout",
     "output_type": "stream",
     "text": [
      "mean     : 86.44444444444444\n",
      "median   : 88\n",
      "mode     : 85\n",
      "multimode: [85]\n"
     ]
    }
   ],
   "source": [
    "import statistics as stats\n",
    "\n",
    "grades = [90, 85, 78, 92, 88, 76, 95, 89, 85]\n",
    "\n",
    "print(\"mean     :\", stats.mean(grades))\n",
    "print(\"median   :\", stats.median(grades))\n",
    "print(\"mode     :\", stats.mode(grades))       # may raise if no unique mode\n",
    "print(\"multimode:\", stats.multimode(grades))  # returns list of all modes"
   ]
  },
  {
   "cell_type": "markdown",
   "id": "a23cf706eef73109",
   "metadata": {
    "collapsed": false
   },
   "source": [
    "### Manual average (good to understand)"
   ]
  },
  {
   "cell_type": "code",
   "execution_count": 242,
   "id": "afad71478fc98724",
   "metadata": {
    "ExecuteTime": {
     "end_time": "2025-08-25T15:12:35.158813Z",
     "start_time": "2025-08-25T15:12:35.000791Z"
    },
    "collapsed": false
   },
   "outputs": [
    {
     "name": "stdout",
     "output_type": "stream",
     "text": [
      "manual average: 5.0\n"
     ]
    }
   ],
   "source": [
    "values = [2, 4, 6, 8]\n",
    "avg = sum(values) / len(values)\n",
    "print(\"manual average:\", avg)"
   ]
  },
  {
   "cell_type": "markdown",
   "id": "34fb57bfbde22e1d",
   "metadata": {
    "collapsed": false
   },
   "source": [
    "## List Comprehensions (optional)"
   ]
  },
  {
   "cell_type": "code",
   "execution_count": 243,
   "id": "d0710660ee762378",
   "metadata": {
    "ExecuteTime": {
     "end_time": "2025-08-25T15:12:35.158880Z",
     "start_time": "2025-08-25T15:12:35.002915Z"
    },
    "collapsed": false
   },
   "outputs": [
    {
     "name": "stdout",
     "output_type": "stream",
     "text": [
      "[0, 1, 4, 9, 16, 25]\n",
      "[0, 2, 4, 6, 8]\n"
     ]
    }
   ],
   "source": [
    "# Squares of 0..5\n",
    "squares = [x*x for x in range(6)]\n",
    "print(squares)\n",
    "\n",
    "# Keep only even numbers\n",
    "evens = [x for x in range(10) if x % 2 == 0]\n",
    "print(evens)"
   ]
  },
  {
   "cell_type": "markdown",
   "id": "c386cf329dc93b05",
   "metadata": {
    "collapsed": false
   },
   "source": [
    "## Very quick NumPy intro\n",
    "\n",
    "NumPy arrays are like lists but optimized for **fast math**.\n",
    "\n",
    "- Create from a list: `np.array([1,2,3])`\n",
    "- Vectorized math: add, multiply, etc. works **elementwise**\n",
    "- Useful creators: `np.arange`, `np.linspace`\n",
    "- Basic stats: `.mean()`, `.sum()`, `.min()`, `.max()`\n"
   ]
  },
  {
   "cell_type": "code",
   "execution_count": 244,
   "id": "9cb6b66f29d1d648",
   "metadata": {
    "ExecuteTime": {
     "end_time": "2025-08-25T15:12:35.160438Z",
     "start_time": "2025-08-25T15:12:35.007440Z"
    },
    "collapsed": false
   },
   "outputs": [
    {
     "name": "stdout",
     "output_type": "stream",
     "text": [
      "a: [1 2 3 4]\n",
      "b: [10 20 30 40]\n",
      "a + b     -> [11 22 33 44]\n",
      "a * 2     -> [2 4 6 8]\n",
      "b - a     -> [ 9 18 27 36]\n",
      "a ** 2    -> [ 1  4  9 16]\n",
      "arange: [0 2 4 6 8]\n",
      "linspace: [0.   0.25 0.5  0.75 1.  ]\n",
      "mean(a): 2.5\n",
      "sum(b): 100\n",
      "min(b): 10 max(b): 40\n",
      "shape of a: (4,) dtype: int64\n"
     ]
    }
   ],
   "source": [
    "import numpy as np\n",
    "\n",
    "# Create arrays\n",
    "a = np.array([1, 2, 3, 4])\n",
    "b = np.array([10, 20, 30, 40])\n",
    "\n",
    "print(\"a:\", a)\n",
    "print(\"b:\", b)\n",
    "\n",
    "# Elementwise operations\n",
    "print(\"a + b     ->\", a + b)\n",
    "print(\"a * 2     ->\", a * 2)      # broadcasting with a scalar\n",
    "print(\"b - a     ->\", b - a)\n",
    "print(\"a ** 2    ->\", a ** 2)     # power elementwise\n",
    "\n",
    "# Quick creators\n",
    "c = np.arange(0, 10, 2)           # 0,2,4,6,8\n",
    "d = np.linspace(0, 1, 5)          # 5 points between 0 and 1\n",
    "print(\"arange:\", c)\n",
    "print(\"linspace:\", d)\n",
    "\n",
    "# Basic stats\n",
    "print(\"mean(a):\", a.mean())\n",
    "print(\"sum(b):\", b.sum())\n",
    "print(\"min(b):\", b.min(), \"max(b):\", b.max())\n",
    "\n",
    "# Shape and dtype\n",
    "print(\"shape of a:\", a.shape, \"dtype:\", a.dtype)"
   ]
  },
  {
   "cell_type": "code",
   "execution_count": 5,
   "outputs": [],
   "source": [
    "import numpy as np\n",
    "a = np.array([[1, 2, 3, 4],\n",
    "              [1, 2, 3, 4]])"
   ],
   "metadata": {
    "collapsed": false,
    "ExecuteTime": {
     "end_time": "2025-08-28T17:49:21.357870Z",
     "start_time": "2025-08-28T17:49:21.346619Z"
    }
   },
   "id": "7dedd9ccb1a7cab"
  },
  {
   "cell_type": "code",
   "execution_count": 6,
   "outputs": [
    {
     "data": {
      "text/plain": "(2, 4)"
     },
     "execution_count": 6,
     "metadata": {},
     "output_type": "execute_result"
    }
   ],
   "source": [
    "a.shape"
   ],
   "metadata": {
    "collapsed": false,
    "ExecuteTime": {
     "end_time": "2025-08-28T17:49:53.599152Z",
     "start_time": "2025-08-28T17:49:53.579657Z"
    }
   },
   "id": "d041f19f532816ff"
  },
  {
   "cell_type": "code",
   "execution_count": 13,
   "outputs": [],
   "source": [
    "b = np.array([10, 20, 30,6])\n"
   ],
   "metadata": {
    "collapsed": false,
    "ExecuteTime": {
     "end_time": "2025-08-28T17:52:27.869378Z",
     "start_time": "2025-08-28T17:52:27.858046Z"
    }
   },
   "id": "c555bad7455faa28"
  },
  {
   "cell_type": "code",
   "execution_count": 14,
   "outputs": [
    {
     "data": {
      "text/plain": "array([[10, 40, 90, 24],\n       [10, 40, 90, 24]])"
     },
     "execution_count": 14,
     "metadata": {},
     "output_type": "execute_result"
    }
   ],
   "source": [
    "b*a"
   ],
   "metadata": {
    "collapsed": false,
    "ExecuteTime": {
     "end_time": "2025-08-28T17:52:28.273800Z",
     "start_time": "2025-08-28T17:52:28.266983Z"
    }
   },
   "id": "dfd7cc5f7243a0bb"
  },
  {
   "cell_type": "markdown",
   "id": "302df7bb09ab5305",
   "metadata": {
    "collapsed": false
   },
   "source": [
    "\n",
    "```python\n",
    "d = np.linspace(0, 1, 5)   # 5 points between 0 and 1\n",
    "```\n",
    "\n",
    "### What does `linspace` do???\n",
    "\n",
    "* **`np.linspace(start, stop, num)`** generates `num` evenly spaced numbers **between** `start` and `stop`, inclusive.\n",
    "\n",
    "So here:\n",
    "\n",
    "* `start = 0`\n",
    "* `stop = 1`\n",
    "* `num = 5`\n",
    "\n",
    "### Step calculation\n",
    "\n",
    "It divides the interval `[0, 1]` into 4 equal steps (because 5 points create 4 gaps).\n",
    "\n",
    "Step size =\n",
    "\n",
    "$$\n",
    "\\frac{stop - start}{num - 1} = \\frac{1 - 0}{5 - 1} = \\frac{1}{4} = 0.25\n",
    "$$\n",
    "\n",
    "### Actual values\n",
    "\n",
    "So the points are:\n",
    "\n",
    "```\n",
    "[0.00, 0.25, 0.50, 0.75, 1.00]\n",
    "```\n",
    "\n",
    "### Why use it?\n",
    "\n",
    "* When you want **evenly spaced samples** from a range.\n",
    "* Useful in plotting, interpolation, or numerical simulations.\n",
    "* Unlike `np.arange`, `linspace` ensures that both endpoints are included (unless you specify `endpoint=False`).\n",
    "\n",
    "### Extra options\n",
    "\n",
    "* `endpoint=False` → excludes the stop value. Example:\n",
    "\n",
    "  ```python\n",
    "  np.linspace(0, 1, 5, endpoint=False)\n",
    "  # [0.  0.2  0.4  0.6  0.8]\n",
    "  ```\n",
    "* `retstep=True` → also returns the step size:\n",
    "\n",
    "  ```python\n",
    "  np.linspace(0, 1, 5, retstep=True)\n",
    "  # (array([0.  , 0.25, 0.5 , 0.75, 1.  ]), 0.25)\n",
    "  ```\n"
   ]
  },
  {
   "cell_type": "markdown",
   "id": "4912293fcf5ec904",
   "metadata": {
    "collapsed": false
   },
   "source": [
    "## Notice the difference between a list array and a numpy array!"
   ]
  },
  {
   "cell_type": "code",
   "execution_count": 245,
   "id": "1e8b961dbe0144d",
   "metadata": {
    "ExecuteTime": {
     "end_time": "2025-08-25T15:12:35.161884Z",
     "start_time": "2025-08-25T15:12:35.009438Z"
    },
    "collapsed": false
   },
   "outputs": [
    {
     "name": "stdout",
     "output_type": "stream",
     "text": [
      "x + z     -> [1, 2, 3, 4, 10, 20, 30, 40]\n"
     ]
    }
   ],
   "source": [
    "x = [1, 2, 3, 4]\n",
    "z = [10, 20, 30, 40]\n",
    "print(\"x + z     ->\",x + z)"
   ]
  },
  {
   "cell_type": "code",
   "execution_count": 246,
   "id": "3d093889085dbb01",
   "metadata": {
    "ExecuteTime": {
     "end_time": "2025-08-25T15:12:35.163459Z",
     "start_time": "2025-08-25T15:12:35.011495Z"
    },
    "collapsed": false
   },
   "outputs": [
    {
     "name": "stdout",
     "output_type": "stream",
     "text": [
      "a + b     -> [11 22 33 44]\n"
     ]
    }
   ],
   "source": [
    "a = np.array([1, 2, 3, 4])\n",
    "b = np.array([10, 20, 30, 40])\n",
    "print(\"a + b     ->\", a + b)"
   ]
  },
  {
   "cell_type": "markdown",
   "id": "5f63190b4c703d0e",
   "metadata": {
    "collapsed": false
   },
   "source": []
  },
  {
   "cell_type": "markdown",
   "id": "38192343f04f3c7",
   "metadata": {
    "collapsed": false
   },
   "source": [
    "# NumPy: Counting, Summing, and Frequencies"
   ]
  },
  {
   "cell_type": "code",
   "execution_count": 2,
   "id": "cf5f014afc52358e",
   "metadata": {
    "collapsed": false,
    "ExecuteTime": {
     "end_time": "2025-08-28T17:57:30.502877Z",
     "start_time": "2025-08-28T17:57:30.410497Z"
    }
   },
   "outputs": [],
   "source": [
    "import numpy as np # I'm only putting it here to show we need it, it doesn't need to be in every cell\n",
    "\n",
    "years = np.array([2010, 2015, 2020, 2018, 2020, 2012, 2019, 2021, 2015, 2020, 2017, 2015])\n"
   ]
  },
  {
   "cell_type": "markdown",
   "id": "1c3c0efc760b8143",
   "metadata": {
    "collapsed": false
   },
   "source": [
    "### Count matches (booleans: True = 1, False = 0)"
   ]
  },
  {
   "cell_type": "code",
   "execution_count": 3,
   "id": "540d57d95f430640",
   "metadata": {
    "collapsed": false,
    "ExecuteTime": {
     "end_time": "2025-08-28T17:57:32.005553Z",
     "start_time": "2025-08-28T17:57:31.991134Z"
    }
   },
   "outputs": [
    {
     "name": "stdout",
     "output_type": "stream",
     "text": [
      "Frequency of 2020+: 4\n",
      "Prices >=2015 (but not 2020+): 6\n"
     ]
    }
   ],
   "source": [
    "# Count years of\n",
    "count_2020_plus = np.count_nonzero(years >= 2020)\n",
    "print(\"Frequency of 2020+:\", count_2020_plus)\n",
    "\n",
    "# Count prices >= 2015 but below 2020\n",
    "count_15_upto_20 = np.count_nonzero((years >= 2015) & (years < 2020))\n",
    "print(\"Prices >=2015 (but not 2020+):\", count_15_upto_20)"
   ]
  },
  {
   "cell_type": "markdown",
   "id": "38a1d3d7e3c59c9b",
   "metadata": {
    "collapsed": false
   },
   "source": [
    "**Note:** `np.sum(grades)` adds the numeric values.  \n",
    "`np.sum(grades == 100)` adds booleans → a **count**."
   ]
  },
  {
   "cell_type": "markdown",
   "id": "2ad4ab2642fc2d9a",
   "metadata": {
    "collapsed": false
   },
   "source": [
    "### Sum the values that match a condition (masking)"
   ]
  },
  {
   "cell_type": "code",
   "execution_count": 249,
   "id": "d57defe9f7ffae92",
   "metadata": {
    "ExecuteTime": {
     "end_time": "2025-08-25T15:12:35.163727Z",
     "start_time": "2025-08-25T15:12:35.018176Z"
    },
    "collapsed": false
   },
   "outputs": [
    {
     "name": "stdout",
     "output_type": "stream",
     "text": [
      "Sum of 180–249: 600\n"
     ]
    }
   ],
   "source": [
    "prices = np.array([150, 200, 99, 300, 150, 220, 180, 99, 250, 150, 175, 99])\n",
    "\n",
    "# Sum of prices >= 180 but not 300\n",
    "sum_180_up = np.sum(prices[(prices >= 180) & (prices < 250)])\n",
    "print(\"Sum of 180–249:\", sum_180_up)"
   ]
  },
  {
   "cell_type": "markdown",
   "id": "42458bc7b7fbfa95",
   "metadata": {
    "collapsed": false
   },
   "source": [
    "Masking rule: `array[condition]` keeps only the elements where `condition` is `True`."
   ]
  },
  {
   "cell_type": "markdown",
   "id": "e0847d855c34342f",
   "metadata": {
    "collapsed": false
   },
   "source": [
    "### Frequencies: unique values and counts\n"
   ]
  },
  {
   "cell_type": "code",
   "execution_count": 250,
   "id": "566ee48e538f3b74",
   "metadata": {
    "ExecuteTime": {
     "end_time": "2025-08-25T15:12:35.163800Z",
     "start_time": "2025-08-25T15:12:35.021126Z"
    },
    "collapsed": false
   },
   "outputs": [
    {
     "name": "stdout",
     "output_type": "stream",
     "text": [
      "values: [2010 2012 2015 2017 2018 2019 2020 2021]\n",
      "counts: [1 1 3 1 1 1 3 1]\n",
      "{2010: 1, 2012: 1, 2015: 3, 2017: 1, 2018: 1, 2019: 1, 2020: 3, 2021: 1}\n"
     ]
    }
   ],
   "source": [
    "values, counts = np.unique(years, return_counts=True) # This returns a tuple! (value_a,value_b)\n",
    "print(\"values:\", values)   # sorted unique grades\n",
    "print(\"counts:\", counts)   # frequency of each value\n",
    "\n",
    "# Optional: dict form (value -> count)\n",
    "freq = dict(zip(values, counts))\n",
    "print(freq)"
   ]
  },
  {
   "cell_type": "markdown",
   "id": "c559383acbaf89f9",
   "metadata": {
    "collapsed": false
   },
   "source": [
    "If you just `print(np.unique(grades, return_counts=True))`, you’ll see a **tuple**:  \n",
    "`(array_of_values, array_of_counts)`."
   ]
  },
  {
   "cell_type": "markdown",
   "id": "5c11d57f03e121c6",
   "metadata": {
    "collapsed": false
   },
   "source": [
    "### Optional: percentages of groups\n"
   ]
  },
  {
   "cell_type": "code",
   "execution_count": 251,
   "id": "f147f97c68fb9a65",
   "metadata": {
    "ExecuteTime": {
     "end_time": "2025-08-25T15:12:35.171694Z",
     "start_time": "2025-08-25T15:12:35.023273Z"
    },
    "collapsed": false
   },
   "outputs": [
    {
     "name": "stdout",
     "output_type": "stream",
     "text": [
      "Pct 2020 plus: 0.3333333333333333\n",
      "Pct 15–19: 0.5\n"
     ]
    }
   ],
   "source": [
    "total = years.size\n",
    "\n",
    "per_2020_plus   = count_2020_plus / total\n",
    "per_15_upto_20  = count_15_upto_20 / total\n",
    "\n",
    "print(\"Pct 2020 plus:\", per_2020_plus)\n",
    "print(\"Pct 15–19:\", per_15_upto_20)"
   ]
  },
  {
   "cell_type": "markdown",
   "id": "5556ed5c24f28b3b",
   "metadata": {
    "collapsed": false
   },
   "source": []
  },
  {
   "cell_type": "markdown",
   "id": "8ff32ecc4fbfac8c",
   "metadata": {
    "collapsed": false
   },
   "source": [
    "## Recap\n",
    "\n",
    "- While loop: repeats while condition is True; indentation defines the body.\n",
    "- Counter = fixed step; Accumulator = adds varying values.\n",
    "- Lists: `[ ]`, index starts at 0; use `len()` for length; slicing uses `[start:end:step]`.\n",
    "- Modify lists: `append`, index assign, `insert`, `extend`, `remove`, `pop`, `del`, `clear`.\n",
    "- For loops: iterate items directly, or with `range(len(...))`, or `enumerate`.\n",
    "- `break`/`continue` exist, but **avoid `break` by default**.\n",
    "- Matplotlib: line, bar, scatter, pie; markers/linestyles table above.\n",
    "- NumPy arrays: fast math, vectorized operations, simple creators/stats.\n",
    "- **Count matches:** `np.count_nonzero(condition)` (clear), or `(condition).sum()`\n",
    "- **Sum matches:** `np.sum(arr[condition])`\n",
    "- **Unique + counts:** `np.unique(arr, return_counts=True)`\n",
    "- **Combine conditions:** `&` (and), `|` (or), `~` (not)\n"
   ]
  },
  {
   "cell_type": "markdown",
   "id": "4781c13ec941449c",
   "metadata": {
    "collapsed": false
   },
   "source": [
    "## Some interesting behaviours"
   ]
  },
  {
   "cell_type": "code",
   "execution_count": 252,
   "id": "c192bcf574cd20b6",
   "metadata": {
    "ExecuteTime": {
     "end_time": "2025-08-25T15:12:38.939162Z",
     "start_time": "2025-08-25T15:12:35.025466Z"
    },
    "collapsed": false
   },
   "outputs": [
    {
     "name": "stdout",
     "output_type": "stream",
     "text": [
      "valid number:  4\n"
     ]
    }
   ],
   "source": [
    "valid = False\n",
    "number = 1\n",
    "while not valid:\n",
    "    value = input(\"Enter a number: \")\n",
    "    if value.replace(\".\", \"\", 1).isdigit():\n",
    "        #if you don't even want floats just take out '.replace(\".\", \"\", 1)' from this first if\n",
    "        number = int(value)   # or float(value) depending what you want \n",
    "        valid = True\n",
    "    else:\n",
    "        print(f\"Invalid input '{value}', please enter a valid number\")\n",
    "\n",
    "print(\"valid number: \", number)"
   ]
  },
  {
   "cell_type": "markdown",
   "id": "1acf9c0e448e8667",
   "metadata": {
    "collapsed": false
   },
   "source": [
    "### Step-by-step explanation of string operation - The more you know!\n",
    "\n",
    "* `.replace(old, new, count)` creates a **new string** — it does not modify the original one, because strings are immutable in Python.\n",
    "* For example:\n",
    "\n",
    "  ```python\n",
    "  s = \"12.3\"\n",
    "  s.replace(\".\", \"\", 1)\n",
    "  print(s)   # still \"12.3\"\n",
    "  ```\n",
    "* To actually change it, you must reassign:\n",
    "\n",
    "  ```python\n",
    "  s = s.replace(\".\", \"\", 1)\n",
    "  print(s)   # now \"123\"\n",
    "  ```\n",
    "\n",
    "### Why use `1` as the count?\n",
    "\n",
    "* With `1` → only one dot is removed:\n",
    "\n",
    "  ```python\n",
    "  \"12.3.4\".replace(\".\", \"\", 1)   # \"123.4\"\n",
    "  ```\n",
    "\n",
    "  This still has a dot, so `.isdigit()` returns `False`.\n",
    "  The invalid input `\"12.3.4\"` is rejected.\n",
    "\n",
    "* With `2` → two dots are removed:\n",
    "\n",
    "  ```python\n",
    "  \"12.3.4\".replace(\".\", \"\", 2)   # \"1234\"\n",
    "  ```\n",
    "\n",
    "  `.isdigit()` returns `True`.\n",
    "  `\"12.3.4\"` would be incorrectly accepted as valid.\n",
    "\n",
    "Using `1` enforces the rule of **at most one decimal point**, which is how proper numbers are written.\n",
    "\n",
    "### Why negatives are rejected\n",
    "\n",
    "* Input: `\"-12.3\"`\n",
    "* After `.replace(\".\", \"\", 1)` → `\"-123\"`\n",
    "* `.isdigit()` sees the `-` and returns `False`.\n",
    "* Result: negative numbers are not accepted.\n",
    "\n",
    "### Allowing negatives with `lstrip(\"-\")`\n",
    "\n",
    "To allow a **leading minus**, we can combine `.lstrip(\"-\")` with `.replace`:\n",
    "\n",
    "```python\n",
    "if value.lstrip(\"-\").replace(\".\", \"\", 1).isdigit():\n",
    "    number = float(value)\n",
    "```\n",
    "\n",
    "* `.lstrip(\"-\")` only removes a minus sign **from the start of the string**.\n",
    "\n",
    "  ```python\n",
    "  \"-123\".lstrip(\"-\")   # \"123\"\n",
    "  \"12-3\".lstrip(\"-\")   # \"12-3\" (unchanged)\n",
    "  ```\n",
    "\n",
    "  This prevents invalid inputs like `\"12-3\"` from being accepted.\n",
    "\n",
    "* Because `.lstrip` returns a new string, we can **chain** it directly with `.replace(\".\", \"\", 1)`.\n",
    "\n",
    "* There’s no need for a temporary variable, since both methods already produce new strings each time.\n",
    "\n",
    "---\n",
    "\n",
    "This way the validation works for:\n",
    "\n",
    "* `\"42\"` → valid\n",
    "* `\"3.14\"` → valid\n",
    "* `\"-42\"` → valid with `lstrip`\n",
    "* `\"-3.14\"` → valid with `lstrip`\n",
    "* `\"12.3.4\"` → rejected\n",
    "* `\"12-3\"` → rejected\n",
    "* `\"abc\"` → rejected\n"
   ]
  },
  {
   "cell_type": "markdown",
   "id": "ceff48af89e736e5",
   "metadata": {
    "collapsed": false
   },
   "source": [
    "\n",
    "\n",
    "### **`np.linspace(start, stop, num)`** confusion vs arange\n",
    "\n",
    "* Generates exactly `num` points evenly spaced between `start` and `stop`.\n",
    "\n",
    "* By default, it **includes** the stop value.\n",
    "\n",
    "* Example:\n",
    "\n",
    "  ```python\n",
    "  np.linspace(0, 1, 5)\n",
    "  ```\n",
    "\n",
    "  Output:\n",
    "\n",
    "  ```\n",
    "  [0.   0.25 0.5  0.75 1.  ]\n",
    "  ```\n",
    "\n",
    "  → 5 points from 0 to 1, inclusive.\n",
    "\n",
    "* If you set `endpoint=False`, the stop is excluded:\n",
    "\n",
    "  ```python\n",
    "  np.linspace(0, 1, 5, endpoint=False)\n",
    "  ```\n",
    "\n",
    "  Output:\n",
    "\n",
    "  ```\n",
    "  [0.  0.2 0.4 0.6 0.8]\n",
    "  ```\n",
    "\n",
    "  → 5 points, but the last one is just before 1.\n",
    "\n",
    "---\n",
    "\n",
    "### **`np.arange(start, stop, step)`**\n",
    "\n",
    "* Generates numbers starting at `start`, increasing by `step`, stopping **just before `stop`** (like Python’s built-in `range`).\n",
    "\n",
    "* The number of points depends on step size, not a fixed count.\n",
    "\n",
    "* Example:\n",
    "\n",
    "  ```python\n",
    "  np.arange(0, 1.01, 0.25)\n",
    "  ```\n",
    "\n",
    "  Output:\n",
    "\n",
    "  ```\n",
    "  [0.   0.25 0.5  0.75 1.  ]\n",
    "  ```\n",
    "\n",
    "  → Same sequence as `linspace(0, 1, 5)`, but here you control the **step** (0.25), not the number of points.\n",
    "\n",
    "* If step doesn't divide evenly, the stop might not be hit exactly:\n",
    "\n",
    "  ```python\n",
    "  np.arange(0, 1, 0.3)\n",
    "  ```\n",
    "\n",
    "  Output:\n",
    "\n",
    "  ```\n",
    "  [0.  0.3  0.6  0.9]\n",
    "  ```\n",
    "\n",
    "  → Notice it stopped before 1.2 (would exceed 1).\n",
    "\n",
    "---\n",
    "\n",
    "### **When to use which?**\n",
    "\n",
    "* Use **`linspace`** when you want a specific number of evenly spaced samples (e.g., 100 points for plotting a curve).\n",
    "* Use **`arange`** when you care about step size (e.g., count by 0.25 seconds, generate multiples of 2).\n",
    "\n"
   ]
  },
  {
   "cell_type": "code",
   "execution_count": 253,
   "id": "88bd4c4b62c8c2aa",
   "metadata": {
    "ExecuteTime": {
     "end_time": "2025-08-25T15:12:38.940964Z",
     "start_time": "2025-08-25T15:12:38.615630Z"
    },
    "collapsed": false
   },
   "outputs": [
    {
     "data": {
      "image/png": "[encoded data removed]",
      "text/plain": [
       "<Figure size 640x480 with 1 Axes>"
      ]
     },
     "metadata": {},
     "output_type": "display_data"
    }
   ],
   "source": [
    "import numpy as np\n",
    "import matplotlib.pyplot as plt\n",
    "\n",
    "# Generate data with linspace (smooth curve)\n",
    "x_lin = np.linspace(0, np.pi, 50)\n",
    "y_lin = np.sin(x_lin)\n",
    "\n",
    "# Generate data with arange (uneven step, 0.3 to make points less aligned)\n",
    "x_ar = np.arange(0, np.pi , 0.5)\n",
    "y_ar = np.sin(x_ar)\n",
    "\n",
    "# Plot\n",
    "plt.plot(x_lin, y_lin, label=\"linspace (50 points)\", color=\"blue\", linestyle=\"-\", marker=\"o\", markersize=3)\n",
    "plt.plot(x_ar, y_ar, label=\"arange (step 0.5)\", color=\"green\", linestyle=\"--\", marker=\"^\", markersize=7)\n",
    "\n",
    "plt.title(\"linspace vs arange (sin function)\")\n",
    "plt.xlabel(\"x\")\n",
    "plt.ylabel(\"sin(x)\")\n",
    "plt.legend()\n",
    "plt.grid(True)\n",
    "plt.show()\n"
   ]
  },
  {
   "cell_type": "code",
   "execution_count": 254,
   "id": "8e6c89edeb23aa3e",
   "metadata": {
    "ExecuteTime": {
     "end_time": "2025-08-25T15:12:38.941130Z",
     "start_time": "2025-08-25T15:12:38.679110Z"
    },
    "collapsed": false
   },
   "outputs": [
    {
     "name": "stdout",
     "output_type": "stream",
     "text": [
      "x arange values (0, np.pi , 0.5): \n",
      "[0.  0.5 1.  1.5 2.  2.5 3. ]\n",
      "y arange values : \n",
      "[0.         0.47942554 0.84147098 0.99749499 0.90929743 0.59847214\n",
      " 0.14112001]\n"
     ]
    }
   ],
   "source": [
    "#x_ar = np.arange(0, np.pi , 0.5)\n",
    "#y_ar = np.sin(x_ar)\n",
    "print(\"x arange values (0, np.pi , 0.5): \")\n",
    "print(x_ar)\n",
    "print(\"y arange values : \")\n",
    "print(y_ar)"
   ]
  },
  {
   "cell_type": "code",
   "execution_count": 255,
   "id": "e42434bdaf304bfe",
   "metadata": {
    "ExecuteTime": {
     "end_time": "2025-08-25T15:12:38.941360Z",
     "start_time": "2025-08-25T15:12:38.681925Z"
    },
    "collapsed": false
   },
   "outputs": [
    {
     "name": "stdout",
     "output_type": "stream",
     "text": [
      "x linspace values np.linspace(0, np.pi, 50): \n",
      "[0.         0.06411414 0.12822827 0.19234241 0.25645654 0.32057068\n",
      " 0.38468481 0.44879895 0.51291309 0.57702722 0.64114136 0.70525549\n",
      " 0.76936963 0.83348377 0.8975979  0.96171204 1.02582617 1.08994031\n",
      " 1.15405444 1.21816858 1.28228272 1.34639685 1.41051099 1.47462512\n",
      " 1.53873926 1.60285339 1.66696753 1.73108167 1.7951958  1.85930994\n",
      " 1.92342407 1.98753821 2.05165235 2.11576648 2.17988062 2.24399475\n",
      " 2.30810889 2.37222302 2.43633716 2.5004513  2.56456543 2.62867957\n",
      " 2.6927937  2.75690784 2.82102197 2.88513611 2.94925025 3.01336438\n",
      " 3.07747852 3.14159265]\n",
      "y linspace values : \n",
      "[0.00000000e+00 6.40702200e-02 1.27877162e-01 1.91158629e-01\n",
      " 2.53654584e-01 3.15108218e-01 3.75267005e-01 4.33883739e-01\n",
      " 4.90717552e-01 5.45534901e-01 5.98110530e-01 6.48228395e-01\n",
      " 6.95682551e-01 7.40277997e-01 7.81831482e-01 8.20172255e-01\n",
      " 8.55142763e-01 8.86599306e-01 9.14412623e-01 9.38468422e-01\n",
      " 9.58667853e-01 9.74927912e-01 9.87181783e-01 9.95379113e-01\n",
      " 9.99486216e-01 9.99486216e-01 9.95379113e-01 9.87181783e-01\n",
      " 9.74927912e-01 9.58667853e-01 9.38468422e-01 9.14412623e-01\n",
      " 8.86599306e-01 8.55142763e-01 8.20172255e-01 7.81831482e-01\n",
      " 7.40277997e-01 6.95682551e-01 6.48228395e-01 5.98110530e-01\n",
      " 5.45534901e-01 4.90717552e-01 4.33883739e-01 3.75267005e-01\n",
      " 3.15108218e-01 2.53654584e-01 1.91158629e-01 1.27877162e-01\n",
      " 6.40702200e-02 1.22464680e-16]\n"
     ]
    }
   ],
   "source": [
    "#x_lin = np.linspace(0, np.pi, 50)\n",
    "#y_lin = np.sin(x_lin)\n",
    "print(\"x linspace values np.linspace(0, np.pi, 50): \")\n",
    "print(x_lin)\n",
    "print(\"y linspace values : \")\n",
    "print(y_lin)"
   ]
  },
  {
   "cell_type": "code",
   "execution_count": 255,
   "id": "558b8bf757f50ac6",
   "metadata": {
    "ExecuteTime": {
     "end_time": "2025-08-25T15:12:38.941437Z",
     "start_time": "2025-08-25T15:12:38.683419Z"
    },
    "collapsed": false
   },
   "outputs": [],
   "source": []
  }
 ],
 "metadata": {
  "kernelspec": {
   "display_name": "Python 3 (ipykernel)",
   "language": "python",
   "name": "python3"
  },
  "language_info": {
   "codemirror_mode": {
    "name": "ipython",
    "version": 3
   },
   "file_extension": ".py",
   "mimetype": "text/x-python",
   "name": "python",
   "nbconvert_exporter": "python",
   "pygments_lexer": "ipython3",
   "version": "3.11.5"
  }
 },
 "nbformat": 4,
 "nbformat_minor": 5
}
