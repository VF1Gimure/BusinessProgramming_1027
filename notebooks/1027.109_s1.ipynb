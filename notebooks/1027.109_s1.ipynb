{
 "cells": [
  {
   "cell_type": "markdown",
   "id": "b55cfa92f14261be",
   "metadata": {
    "collapsed": false
   },
   "source": [
    "> created by Luis S. Flores for ITESM\n",
    "> Contact: Luis_SFU@tec.mx\n",
    "> August/2025\n",
    ">"
   ]
  },
  {
   "cell_type": "markdown",
   "id": "72167719345365cc",
   "metadata": {
    "collapsed": false
   },
   "source": [
    "# Data types, operator hierarchy, and mathematical expressions"
   ]
  },
  {
   "cell_type": "markdown",
   "id": "c0a3feeba2767c17",
   "metadata": {
    "collapsed": false
   },
   "source": [
    "## Identifiers\n",
    "<span style=\"font-size:16px\">\n",
    "- First character must be a letter or underscore.<br>\n",
    "- Other characters can be letters or digits.<br>\n",
    "- Examples: aux, sum, accum, a1, variable, variable1, _age.\n",
    "</span>\n"
   ]
  },
  {
   "cell_type": "markdown",
   "id": "eb71519d13995b96",
   "metadata": {
    "collapsed": false
   },
   "source": [
    "![Basic Data Types in Python](https://realpython.com/cdn-cgi/image/width=1500,format=auto/https://files.realpython.com/media/Basic-Data-Types-in-Python_Watermarked.e3dd34457952.jpg)\n"
   ]
  },
  {
   "cell_type": "markdown",
   "id": "83434b4af8a7d0ce",
   "metadata": {
    "collapsed": false
   },
   "source": [
    "## Data types\n",
    "<span style=\"font-size:16px\">\n",
    "- int: whole numbers (no decimals). Example: a = 5<br>\n",
    "- float: numbers with decimals. Example: b = 7.5<br>\n",
    "- str: text in \" \" or ' '. Example: \"Street X #33 corner with Street Y\"<br>\n",
    "- bool: True or False.\n",
    "</span>\n"
   ]
  },
  {
   "cell_type": "code",
   "execution_count": 6,
   "id": "1ec45d4611e60127",
   "metadata": {
    "ExecuteTime": {
     "end_time": "2025-08-10T22:13:13.404586Z",
     "start_time": "2025-08-10T22:13:13.401648Z"
    },
    "collapsed": false
   },
   "outputs": [
    {
     "name": "stdout",
     "output_type": "stream",
     "text": [
      "<class 'int'> 5\n",
      "<class 'float'> 7.5\n",
      "<class 'str'> Street X #33 corner with Street Y\n",
      "<class 'bool'> True\n"
     ]
    }
   ],
   "source": [
    "# Quick type demos\n",
    "a = 5          # int\n",
    "b = 7.5        # float\n",
    "address = \"Street X #33 corner with Street Y\"  # str\n",
    "logic1 = True  # bool\n",
    "print(type(a), a)\n",
    "print(type(b), b)\n",
    "print(type(address), address)\n",
    "print(type(logic1), logic1)\n"
   ]
  },
  {
   "cell_type": "markdown",
   "id": "5f33841bdaaadc0c",
   "metadata": {
    "collapsed": false
   },
   "source": [
    "## Data types: str\n",
    "<span style=\"font-size:16px\">\n",
    "To store text, use the string (str) type. The value must be enclosed in double quotes or in single quotes.<br><br>\n",
    "Examples:\n",
    "</span>\n"
   ]
  },
  {
   "cell_type": "code",
   "execution_count": 14,
   "id": "d17f5e560abd791b",
   "metadata": {
    "ExecuteTime": {
     "end_time": "2025-08-10T22:23:53.482207Z",
     "start_time": "2025-08-10T22:23:53.472644Z"
    },
    "collapsed": false
   },
   "outputs": [
    {
     "name": "stdout",
     "output_type": "stream",
     "text": [
      "Street X #33 corner with Street Y\n",
      "Python is \"the best\" language\n"
     ]
    }
   ],
   "source": [
    "address = \"Street X #33 corner with Street Y\"\n",
    "message = 'Python is \"the best\" language'\n",
    "\n",
    "print(address)\n",
    "print(message)"
   ]
  },
  {
   "cell_type": "code",
   "execution_count": 20,
   "id": "b1cf5af9e1d35295",
   "metadata": {
    "ExecuteTime": {
     "end_time": "2025-08-10T22:25:24.826458Z",
     "start_time": "2025-08-10T22:25:24.814530Z"
    },
    "collapsed": false
   },
   "outputs": [
    {
     "name": "stdout",
     "output_type": "stream",
     "text": [
      "Luis is 29\n"
     ]
    }
   ],
   "source": [
    "name = \"Luis\"\n",
    "age = 29\n",
    "\n",
    "print(name, \"is\",age)"
   ]
  },
  {
   "cell_type": "markdown",
   "id": "68c811cfc2cab44",
   "metadata": {
    "collapsed": false
   },
   "source": [
    "## Arithmetic operator hierarchy\n",
    "<span style=\"font-size:16px\">\n",
    "1. Parentheses `()`<br>\n",
    "2. Exponentiation `**`<br>\n",
    "3. Multiplication / Division / Floor / Modulo<br>\n",
    "4. Addition / Subtraction<br><br>\n",
    "Example:<br>\n",
    "5 + 9 * 2 <span style=\"color:red\">→</span> 5 + 18 <span style=\"color:red\">→</span> 15.0\n",
    "</span>\n"
   ]
  },
  {
   "cell_type": "code",
   "execution_count": 24,
   "id": "7bd567680475561c",
   "metadata": {
    "ExecuteTime": {
     "end_time": "2025-08-10T22:37:31.406939Z",
     "start_time": "2025-08-10T22:37:31.402974Z"
    },
    "collapsed": false
   },
   "outputs": [
    {
     "name": "stdout",
     "output_type": "stream",
     "text": [
      "15.0\n"
     ]
    }
   ],
   "source": [
    "expr = 5 + 9 * 2 - 40/5\n",
    "print(expr) "
   ]
  },
  {
   "cell_type": "markdown",
   "id": "8d24e2e75d7a9231",
   "metadata": {
    "collapsed": false
   },
   "source": [
    "## Relational operators\n",
    "<span style=\"font-size:16px\">\n",
    "- Compare values; result is True or False.<br>\n",
    "Example:<br>\n",
    "(7**2) > (25*2) <span style=\"color:red\">→</span> 49 > 50 <span style=\"color:red\">→</span> False\n",
    "</span>\n"
   ]
  },
  {
   "cell_type": "code",
   "execution_count": 10,
   "id": "404468ef120d4b7b",
   "metadata": {
    "ExecuteTime": {
     "end_time": "2025-08-10T22:18:57.054968Z",
     "start_time": "2025-08-10T22:18:57.051251Z"
    },
    "collapsed": false
   },
   "outputs": [
    {
     "name": "stdout",
     "output_type": "stream",
     "text": [
      "False\n"
     ]
    }
   ],
   "source": [
    "print((7**2) > (25*2))"
   ]
  },
  {
   "cell_type": "markdown",
   "id": "b3d3ff13fc3ad68",
   "metadata": {
    "collapsed": false
   },
   "source": [
    "## Logical operators\n",
    "<span style=\"font-size:16px\">\n",
    "- Combine conditions using: and, or, not\n",
    "</span>\n"
   ]
  },
  {
   "cell_type": "code",
   "execution_count": 18,
   "id": "initial_id",
   "metadata": {
    "ExecuteTime": {
     "end_time": "2025-08-10T22:24:57.445627Z",
     "start_time": "2025-08-10T22:24:57.440253Z"
    },
    "collapsed": true,
    "jupyter": {
     "outputs_hidden": true
    }
   },
   "outputs": [
    {
     "name": "stdout",
     "output_type": "stream",
     "text": [
      "(x > 0) and (y > 0)  : True\n",
      "(x < 0) or (y > 0)   : True\n",
      "not (x > y)          : False\n"
     ]
    }
   ],
   "source": [
    "x=10\n",
    "y=5\n",
    "print(\"(x > 0) and (y > 0)  :\", (x > 0) and (y > 0))\n",
    "print(\"(x < 0) or (y > 0)   :\", (x < 0) or (y > 0)) \n",
    "print(\"not (x > y)          :\", not (x > y))         \n"
   ]
  },
  {
   "cell_type": "markdown",
   "id": "a330e46e303740b2",
   "metadata": {
    "collapsed": false
   },
   "source": [
    "### int and float operations in Python\n",
    "\n",
    "<span style=\"font-size:16px\">\n",
    "• If either number is a <code>float</code>, the result is a <code>float</code>.<br>\n",
    "• In Python 3, division <code>/</code> always returns a <code>float</code> — even if both operands are <code>int</code>.<br>\n",
    "• The variable type can change automatically depending on the operation.\n",
    "</span>\n"
   ]
  },
  {
   "cell_type": "code",
   "execution_count": 5,
   "id": "ece0f85fc76a3ed5",
   "metadata": {
    "ExecuteTime": {
     "end_time": "2025-08-10T22:02:42.718131Z",
     "start_time": "2025-08-10T22:02:42.711557Z"
    },
    "collapsed": false
   },
   "outputs": [
    {
     "name": "stdout",
     "output_type": "stream",
     "text": [
      "a = 5 | type: <class 'int'>\n",
      "b = 2 | type: <class 'int'>\n",
      "\n",
      "Integer division (//): 2 | type: <class 'int'>\n",
      "Regular division (/): 2.5 | type: <class 'float'>\n",
      "\n",
      "Addition with float: 10.0 | type: <class 'float'>\n",
      "\n",
      "After a = a / b -> a = 2.5 | type: <class 'float'>\n"
     ]
    }
   ],
   "source": [
    "# Initial integers\n",
    "a = 5\n",
    "b = 2\n",
    "print(\"a =\", a, \"| type:\", type(a))\n",
    "print(\"b =\", b, \"| type:\", type(b))\n",
    "\n",
    "# Integer division\n",
    "result1 = a // b\n",
    "print(\"\\nInteger division (//):\", result1, \"| type:\", type(result1))\n",
    "\n",
    "# Regular division with integers\n",
    "result2 = a / b\n",
    "print(\"Regular division (/):\", result2, \"| type:\", type(result2))\n",
    "\n",
    "# Mixing int and float\n",
    "c = 5.0\n",
    "result3 = a + c\n",
    "print(\"\\nAddition with float:\", result3, \"| type:\", type(result3))\n",
    "\n",
    "# Changing value of int variable with float operation\n",
    "a = a / b\n",
    "print(\"\\nAfter a = a / b -> a =\", a, \"| type:\", type(a))\n"
   ]
  },
  {
   "cell_type": "markdown",
   "id": "2681f24983425622",
   "metadata": {
    "collapsed": false
   },
   "source": [
    "**Compound interest with regular deposits**\n",
    "\n",
    "$$\n",
    "A = P\\left(1+\\frac{r}{n}\\right)^{nt} + \\frac{d \\left[\\left(1+\\frac{r}{n}\\right)^{nt} - 1\\right]}{\\frac{r}{n}}\n",
    "$$\n"
   ]
  },
  {
   "cell_type": "code",
   "execution_count": 22,
   "id": "2a0695b9d53d7f31",
   "metadata": {
    "ExecuteTime": {
     "end_time": "2025-08-10T22:36:37.250715Z",
     "start_time": "2025-08-10T22:36:19.324966Z"
    },
    "collapsed": false
   },
   "outputs": [
    {
     "name": "stdout",
     "output_type": "stream",
     "text": [
      "A = 3.562500000000001\n"
     ]
    }
   ],
   "source": [
    "# Compound interest with regular deposits\n",
    "P = float(input(\"input value for P (principal amount): \"))\n",
    "r = float(input(\"input value for r (annual interest rate in decimal, e.g. 0.05): \"))\n",
    "n = float(input(\"input value for n (compounding periods per year): \"))\n",
    "t = float(input(\"input value for t (number of years): \"))\n",
    "d = float(input(\"input value for d (deposit per period): \"))\n",
    "\n",
    "A = P * (1 + r/n)**(n*t) + d * ((1 + r/n)**(n*t) - 1) / (r/n)\n",
    "\n",
    "print(f\"A = {A}\")"
   ]
  },
  {
   "cell_type": "markdown",
   "id": "385bf17222fe879",
   "metadata": {
    "collapsed": false
   },
   "source": [
    "**Volume of a frustum of a cone**\n",
    "\n",
    "$$\n",
    "V = \\frac{\\pi h}{3} \\left(R^2 + Rr + r^2\\right)\n",
    "$$"
   ]
  },
  {
   "cell_type": "code",
   "execution_count": 23,
   "id": "3b41f1a0ece3976a",
   "metadata": {
    "ExecuteTime": {
     "end_time": "2025-08-10T22:37:22.443633Z",
     "start_time": "2025-08-10T22:37:04.198407Z"
    },
    "collapsed": false
   },
   "outputs": [
    {
     "name": "stdout",
     "output_type": "stream",
     "text": [
      "V = 29.059732045705587\n"
     ]
    }
   ],
   "source": [
    "from math import pi\n",
    "\n",
    "R = float(input(\"input value for R (base radius): \"))\n",
    "r = float(input(\"input value for r (top radius): \"))\n",
    "h = float(input(\"input value for h (height): \"))\n",
    "\n",
    "V = (pi * h / 3) * (R**2 + R*r + r**2)\n",
    "\n",
    "print(f\"V = {V}\")"
   ]
  },
  {
   "cell_type": "code",
   "execution_count": 1,
   "id": "66393cdd8ce4a281",
   "metadata": {
    "collapsed": false,
    "ExecuteTime": {
     "end_time": "2025-08-11T17:58:17.036081Z",
     "start_time": "2025-08-11T17:58:12.023921Z"
    }
   },
   "outputs": [
    {
     "data": {
      "text/plain": "3.7"
     },
     "execution_count": 1,
     "metadata": {},
     "output_type": "execute_result"
    }
   ],
   "source": [
    "n1 = float(input())\n",
    "n2 = float(input())\n",
    "n1+n2"
   ]
  },
  {
   "cell_type": "code",
   "execution_count": 11,
   "outputs": [
    {
     "data": {
      "text/plain": "3"
     },
     "execution_count": 11,
     "metadata": {},
     "output_type": "execute_result"
    }
   ],
   "source": [
    "19//5"
   ],
   "metadata": {
    "collapsed": false,
    "ExecuteTime": {
     "end_time": "2025-08-11T18:22:56.177043Z",
     "start_time": "2025-08-11T18:22:56.168504Z"
    }
   },
   "id": "4fef7faf7716efd8"
  },
  {
   "cell_type": "code",
   "execution_count": 10,
   "outputs": [
    {
     "data": {
      "text/plain": "3.2"
     },
     "execution_count": 10,
     "metadata": {},
     "output_type": "execute_result"
    }
   ],
   "source": [
    "16/5"
   ],
   "metadata": {
    "collapsed": false,
    "ExecuteTime": {
     "end_time": "2025-08-11T18:22:39.403351Z",
     "start_time": "2025-08-11T18:22:39.399757Z"
    }
   },
   "id": "c2f97df654016478"
  },
  {
   "cell_type": "code",
   "execution_count": 12,
   "outputs": [
    {
     "data": {
      "text/plain": "1"
     },
     "execution_count": 12,
     "metadata": {},
     "output_type": "execute_result"
    }
   ],
   "source": [
    "16%5"
   ],
   "metadata": {
    "collapsed": false,
    "ExecuteTime": {
     "end_time": "2025-08-11T18:24:27.427559Z",
     "start_time": "2025-08-11T18:24:27.415161Z"
    }
   },
   "id": "4c21179b2904248e"
  },
  {
   "cell_type": "code",
   "execution_count": null,
   "outputs": [],
   "source": [],
   "metadata": {
    "collapsed": false
   },
   "id": "4ef2dff209cd8eac"
  },
  {
   "cell_type": "code",
   "execution_count": null,
   "outputs": [],
   "source": [
    "celcius = float(input())\n",
    "f=c*(5/9)+32\n",
    "print(f)\n"
   ],
   "metadata": {
    "collapsed": false
   },
   "id": "8be6369661f83070"
  }
 ],
 "metadata": {
  "kernelspec": {
   "display_name": "Python 3 (ipykernel)",
   "language": "python",
   "name": "python3"
  },
  "language_info": {
   "codemirror_mode": {
    "name": "ipython",
    "version": 3
   },
   "file_extension": ".py",
   "mimetype": "text/x-python",
   "name": "python",
   "nbconvert_exporter": "python",
   "pygments_lexer": "ipython3",
   "version": "3.11.5"
  }
 },
 "nbformat": 4,
 "nbformat_minor": 5
}
