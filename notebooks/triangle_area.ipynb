{
 "cells": [
  {
   "cell_type": "markdown",
   "source": [
    "\n",
    "\n",
    "## Problem 1\n",
    "\n",
    "$$\n",
    "v=\\frac{d}{t}\n",
    "$$\n",
    "\n",
    "**Description:** Velocity from distance $d$ and time $t$.\n",
    "**Test Cases:**\n",
    "\n",
    "* (100, 9) → **11.1111**\n",
    "* (0, 5) → **0.0**\n",
    "* (2500, 62.5) → **40.0**\n",
    "\n",
    "---\n",
    "\n",
    "## Problem 2\n",
    "\n",
    "$$\n",
    "v_e=\\sqrt{\\frac{2GM}{r}}\n",
    "$$\n",
    "\n",
    "**Description:** Escape velocity using $G$, mass $M$, and radius $r$.\n",
    "**Test Cases:**\n",
    "\n",
    "* $G=6.674\\times 10^{-11},\\ M=1000,\\ r=10$ → **0.0001155**\n",
    "* $G=6.674\\times 10^{-11},\\ M=5000,\\ r=20$ → **0.0001827**\n",
    "* $G=6.674\\times 10^{-11},\\ M=10000,\\ r=50$ → **0.0001634**\n",
    "\n",
    "---\n",
    "\n",
    "## Problem 3\n",
    "\n",
    "$$\n",
    "R_{\\mathrm{eq}}=\\frac{1}{\\dfrac{1}{R_1}+\\dfrac{1}{R_2}+\\dfrac{1}{R_3}}\n",
    "$$\n",
    "\n",
    "**Description:** Equivalent resistance of three resistors in parallel.\n",
    "**Test Cases:**\n",
    "\n",
    "* (100, 200, 300) → **54.5455 Ω**\n",
    "* (10, 10, 10) → **3.3333 Ω**\n",
    "* (47, 220, 1000) → **37.2828 Ω**\n",
    "\n",
    "---\n",
    "\n",
    "## Problem 4\n",
    "\n",
    "\n",
    "\n",
    "$$\n",
    "F_g=G\\,\\frac{m_1 m_2}{r^2}\n",
    "$$\n",
    "\n",
    "**Description:** Gravitational force between two masses.\n",
    "\n",
    "**Test Cases:**\n",
    "\n",
    "* $G=6.674\\times 10^{-11},\\ m_1=5{,}000{,}000,\\ m_2=3{,}000{,}000,\\ r=50$ → **0.40044 N**\n",
    "* $G=6.674\\times 10^{-11},\\ m_1=8{,}000,\\ m_2=12{,}000,\\ r=5$ → **0.00025628 N**\n",
    "* $G=6.674\\times 10^{-11},\\ m_1=100{,}000,\\ m_2=200{,}000,\\ r=100$ → **0.00013348 N**\n",
    "\n",
    "\n",
    "---\n",
    "\n",
    "## Problem 5\n",
    "\n",
    "$$\n",
    "P_1+\\frac{1}{2}\\rho v_1^2+\\rho g h_1\n",
    "=\n",
    "P_2+\\frac{1}{2}\\rho v_2^2+\\rho g h_2\n",
    "$$\n",
    "\n",
    "**Description:** Bernoulli’s equation between two points in steady, incompressible flow, solved for $P_2$ with $\\rho=1000\\ \\text{kg/m}^3$ and $h_1=h_2$.\n",
    "**Test Cases:**\n",
    "\n",
    "* (200000, 3, 6) → **186500.0 Pa**\n",
    "* (101325, 2, 0) → **103325.0 Pa**\n",
    "* (250000, 8, 10) → **232000.0 Pa**\n",
    "\n",
    "---\n"
   ],
   "metadata": {
    "collapsed": false
   },
   "id": "78509b5e63135863"
  },
  {
   "cell_type": "code",
   "execution_count": null,
   "id": "initial_id",
   "metadata": {
    "collapsed": true
   },
   "outputs": [],
   "source": [
    "base = 1"
   ]
  }
 ],
 "metadata": {
  "kernelspec": {
   "display_name": "Python 3",
   "language": "python",
   "name": "python3"
  },
  "language_info": {
   "codemirror_mode": {
    "name": "ipython",
    "version": 2
   },
   "file_extension": ".py",
   "mimetype": "text/x-python",
   "name": "python",
   "nbconvert_exporter": "python",
   "pygments_lexer": "ipython2",
   "version": "2.7.6"
  }
 },
 "nbformat": 4,
 "nbformat_minor": 5
}
