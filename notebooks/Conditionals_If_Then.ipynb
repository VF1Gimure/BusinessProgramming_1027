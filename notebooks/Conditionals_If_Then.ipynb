{
 "cells": [
  {
   "cell_type": "markdown",
   "id": "52781a2ef866c545",
   "metadata": {
    "collapsed": false
   },
   "source": [
    "> created by Luis S. Flores for ITESM\n",
    "> Contact: Luis_SFU@tec.mx\n",
    "> August/2025\n",
    ">"
   ]
  },
  {
   "cell_type": "markdown",
   "id": "b1f1aae6f5d896b4",
   "metadata": {},
   "source": [
    "## Conditional Control Structures\n",
    "\n",
    "<span style=\"font-size:18px\">A conditional is a <b>control structure</b>.\n",
    "\n",
    "Sequential structure: the computer runs instructions line by line, top to bottom, without decisions.\n",
    "\n",
    "Control structure: the computer decides which lines to run, based on a True/False test (a condition).\n",
    "</span>\n"
   ]
  },
  {
   "cell_type": "markdown",
   "id": "d8fa3980a320568e",
   "metadata": {},
   "source": [
    "## Operators You Put Inside Conditions\n",
    "\n",
    "### Relational (comparisons)\n",
    "<div align=\"center\">\n",
    "\n",
    "| Operator | Meaning | Example | Result Example |\n",
    "|----------|---------|---------|----------------|\n",
    "| `==`     | equal to                        | `x == y`        | `5 == 5` → True |\n",
    "| `!=`     | not equal to                    | `x != y`        | `4 != 5` → True |\n",
    "| `>`      | greater than                    | `x > y`         | `7 > 5` → True |\n",
    "| `<`      | less than                       | `x < y`         | `3 < 5` → True |\n",
    "| `>=`     | greater than or equal           | `x >= y`        | `5 >= 5` → True |\n",
    "| `<=`     | less than or equal              | `x <= y`        | `4 <= 5` → True |\n",
    "\n",
    "**Note:** `<>` is not valid in Python 3. Use `!=`.\n",
    "\n",
    "</div>\n"
   ]
  },
  {
   "cell_type": "markdown",
   "id": "697fea90a2ba9057",
   "metadata": {},
   "source": [
    "### Logical (combine or flip conditions)\n",
    "<div align=\"center\">\n",
    "\n",
    "| Operator | Meaning                 | Example                  | Result Example                  |\n",
    "|----------|-------------------------|--------------------------|---------------------------------|\n",
    "| `and`    | both must be True       | `x>5 and y<10`           | `7>5 and 3<10` → True           |\n",
    "| `or`     | at least one is True    | `x>5 or y<10`            | `2>5 or 3<10` → True            |\n",
    "| `not`    | flip True/False         | `not(x>5)`               | `not(7>5)` → False              |\n",
    "\n",
    "</div>"
   ]
  },
  {
   "cell_type": "markdown",
   "id": "35c0588c0c7617f4",
   "metadata": {},
   "source": [
    "### Membership (in a collection)\n",
    "<div align=\"center\">\n",
    "\n",
    "| Operator | Meaning                      | Example                 | Result Example             |\n",
    "|----------|------------------------------|-------------------------|----------------------------|\n",
    "| `in`     | left value is inside right   | `x in [1,2,3]`          | `2 in [1,2,3]` → True      |\n",
    "| `not in` | left value is not inside     | `x not in \"abc\"`        | `'z' not in \"abc\"` → True  |\n",
    "\n",
    "</div>\n"
   ]
  },
  {
   "cell_type": "markdown",
   "id": "ab3ca3455b860306",
   "metadata": {},
   "source": [
    "### Identity (same object in memory)\n",
    "<div align=\"center\">\n",
    "\n",
    "| Operator | Meaning                     | Example            | Note |\n",
    "|----------|-----------------------------|--------------------|------|\n",
    "| `is`     | is the same object          | `a is b`           | Use `==` for value equality |\n",
    "| `is not` | is not the same object      | `a is not b`       | Identity ≠ equality        |\n",
    "\n",
    "</div>\n"
   ]
  },
  {
   "cell_type": "markdown",
   "id": "bf0bb14e3e8695df",
   "metadata": {},
   "source": [
    "## Conditional Structures with Short Python Examples\n"
   ]
  },
  {
   "cell_type": "code",
   "execution_count": 53,
   "id": "8a07afdec86b3ddd",
   "metadata": {
    "collapsed": false,
    "ExecuteTime": {
     "end_time": "2025-08-21T03:47:35.481052Z",
     "start_time": "2025-08-21T03:47:35.427252Z"
    }
   },
   "outputs": [
    {
     "name": "stdout",
     "output_type": "stream",
     "text": [
      "x > 5\n"
     ]
    }
   ],
   "source": [
    "# Simple if\n",
    "x = 10\n",
    "if x > 5:\n",
    "    print(\"x > 5\")  # prints because 10 > 5\n"
   ]
  },
  {
   "cell_type": "code",
   "execution_count": 54,
   "id": "57b6d892da133f7a",
   "metadata": {
    "ExecuteTime": {
     "end_time": "2025-08-21T03:47:35.482437Z",
     "start_time": "2025-08-21T03:47:35.429910Z"
    }
   },
   "outputs": [
    {
     "name": "stdout",
     "output_type": "stream",
     "text": [
      "x <= 5\n"
     ]
    }
   ],
   "source": [
    "# if – else\n",
    "x = 3\n",
    "if x > 5:\n",
    "    print(\"x > 5\")\n",
    "else:\n",
    "    print(\"x <= 5\")  # prints because 3 <= 5\n"
   ]
  },
  {
   "cell_type": "code",
   "execution_count": 55,
   "id": "a1439f6949f6869f",
   "metadata": {
    "ExecuteTime": {
     "end_time": "2025-08-21T03:47:35.482544Z",
     "start_time": "2025-08-21T03:47:35.432434Z"
    }
   },
   "outputs": [
    {
     "name": "stdout",
     "output_type": "stream",
     "text": [
      "5 < x <= 10\n"
     ]
    }
   ],
   "source": [
    "# if – elif – else\n",
    "x = 7\n",
    "if x > 10:\n",
    "    print(\"x > 10\")\n",
    "elif x > 5:\n",
    "    print(\"5 < x <= 10\")  # prints\n",
    "else:\n",
    "    print(\"x <= 5\")\n"
   ]
  },
  {
   "cell_type": "code",
   "execution_count": null,
   "outputs": [],
   "source": [
    "# if – elif – else\n",
    "x = 7\n",
    "if x > 10:\n",
    "    print(\"x > 10\")\n",
    "else:\n",
    "    if x > 5:\n",
    "        print(\"5 < x <= 10\")  # prints\n",
    "    else:\n",
    "        print(\"x <= 5\")\n"
   ],
   "metadata": {
    "collapsed": false
   },
   "id": "3e9bbbf3862e6892"
  },
  {
   "cell_type": "code",
   "execution_count": 56,
   "id": "51123fd3218be93a",
   "metadata": {
    "ExecuteTime": {
     "end_time": "2025-08-21T03:47:35.482651Z",
     "start_time": "2025-08-21T03:47:35.435035Z"
    }
   },
   "outputs": [
    {
     "name": "stdout",
     "output_type": "stream",
     "text": [
      "x > 5 and even\n"
     ]
    }
   ],
   "source": [
    "# Nested if\n",
    "x = 12\n",
    "if x > 5:\n",
    "    if x % 2 == 0:\n",
    "        print(\"x > 5 and even\")  # prints\n",
    "    else:\n",
    "        print(\"x > 5 and odd\")\n"
   ]
  },
  {
   "cell_type": "code",
   "execution_count": 57,
   "id": "8ad8d762692b52d6",
   "metadata": {
    "ExecuteTime": {
     "end_time": "2025-08-21T03:47:35.483858Z",
     "start_time": "2025-08-21T03:47:35.438796Z"
    }
   },
   "outputs": [
    {
     "name": "stdout",
     "output_type": "stream",
     "text": [
      "Countdown\n",
      "3\n",
      "2\n",
      "1\n",
      "Lift off!\n"
     ]
    }
   ],
   "source": [
    "# while with a condition\n",
    "count = 3\n",
    "print(\"Countdown\")\n",
    "while count > 0:\n",
    "    print(count)\n",
    "    count = count - 1\n",
    "print(\"Lift off!\")\n"
   ]
  },
  {
   "cell_type": "code",
   "execution_count": 58,
   "id": "78b81756cb96ff1f",
   "metadata": {
    "ExecuteTime": {
     "end_time": "2025-08-21T03:47:35.483960Z",
     "start_time": "2025-08-21T03:47:35.441087Z"
    }
   },
   "outputs": [
    {
     "name": "stdout",
     "output_type": "stream",
     "text": [
      "B\n"
     ]
    }
   ],
   "source": [
    "# \"Switch\"-style in Python (match/case, Python 3.10+)\n",
    "grade = 85\n",
    "match grade:\n",
    "    case g if g >= 90:\n",
    "        print(\"A\")\n",
    "    case g if g >= 80:\n",
    "        print(\"B\")  # prints\n",
    "    case g if g >= 70:\n",
    "        print(\"C\")\n",
    "    case _:\n",
    "        print(\"F\")\n"
   ]
  },
  {
   "cell_type": "markdown",
   "id": "820509e42467dbfa",
   "metadata": {},
   "source": [
    "## Combining Operators in Real Checks\n"
   ]
  },
  {
   "cell_type": "code",
   "execution_count": 59,
   "id": "bc7b33c8120f4691",
   "metadata": {
    "ExecuteTime": {
     "end_time": "2025-08-21T03:47:35.507728Z",
     "start_time": "2025-08-21T03:47:35.443589Z"
    }
   },
   "outputs": [
    {
     "name": "stdout",
     "output_type": "stream",
     "text": [
      "Access denied\n"
     ]
    }
   ],
   "source": [
    "# Relational + logical\n",
    "age = 16\n",
    "has_id = True\n",
    "if (age >= 18) and has_id:\n",
    "    print(\"Access granted\")\n",
    "else:\n",
    "    print(\"Access denied\")  # prints\n"
   ]
  },
  {
   "cell_type": "code",
   "execution_count": 60,
   "id": "3718b553b348b690",
   "metadata": {
    "ExecuteTime": {
     "end_time": "2025-08-21T03:47:35.509071Z",
     "start_time": "2025-08-21T03:47:35.445747Z"
    }
   },
   "outputs": [
    {
     "name": "stdout",
     "output_type": "stream",
     "text": [
      "Proceed\n"
     ]
    }
   ],
   "source": [
    "# Membership\n",
    "choice = \"YES\"\n",
    "if choice.lower() in [\"yes\", \"y\"]:\n",
    "    print(\"Proceed\")  # prints\n",
    "else:\n",
    "    print(\"Stop\")\n"
   ]
  },
  {
   "cell_type": "code",
   "execution_count": 61,
   "id": "ca866d858615b1bf",
   "metadata": {
    "ExecuteTime": {
     "end_time": "2025-08-21T03:47:35.509232Z",
     "start_time": "2025-08-21T03:47:35.448093Z"
    }
   },
   "outputs": [
    {
     "name": "stdout",
     "output_type": "stream",
     "text": [
      "True\n",
      "False\n"
     ]
    }
   ],
   "source": [
    "# Identity vs equality\n",
    "a = [1, 2, 3]\n",
    "b = [1, 2, 3]\n",
    "\n",
    "print(a == b)  # True: same values\n",
    "print(a is b)  # False: different objects in memory\n"
   ]
  },
  {
   "cell_type": "markdown",
   "id": "a65539ac8d585103",
   "metadata": {},
   "source": [
    "## Quick Reminder: Control vs Sequential (with code)\n"
   ]
  },
  {
   "cell_type": "code",
   "execution_count": 62,
   "id": "ab48cdd053c11462",
   "metadata": {
    "ExecuteTime": {
     "end_time": "2025-08-21T03:47:35.510355Z",
     "start_time": "2025-08-21T03:47:35.450617Z"
    }
   },
   "outputs": [
    {
     "name": "stdout",
     "output_type": "stream",
     "text": [
      "Start\n",
      "Total: 10\n",
      "End\n"
     ]
    }
   ],
   "source": [
    "# Sequential structure (runs every line, top to bottom)\n",
    "print(\"Start\")          # 1. runs\n",
    "total = 0               # 2. runs\n",
    "total = total + 10      # 3. runs\n",
    "print(\"Total:\", total)  # 4. runs -> Total: 10\n",
    "print(\"End\")            # 5. runs\n",
    "# Output always shows Start, Total: 10, End (no decisions made)\n"
   ]
  },
  {
   "cell_type": "code",
   "execution_count": 63,
   "id": "e8abfede95e4971",
   "metadata": {
    "ExecuteTime": {
     "end_time": "2025-08-21T03:47:35.510443Z",
     "start_time": "2025-08-21T03:47:35.452953Z"
    }
   },
   "outputs": [
    {
     "name": "stdout",
     "output_type": "stream",
     "text": [
      "Start\n",
      "x is greater than 5 but not more than 10\n",
      "End\n"
     ]
    }
   ],
   "source": [
    "# Conditional control structure (decides which lines to run)\n",
    "x = 7\n",
    "print(\"Start\")\n",
    "if x > 10:\n",
    "    print(\"x is greater than 10\")\n",
    "elif x > 5:\n",
    "    print(\"x is greater than 5 but not more than 10\")  # this runs\n",
    "else:\n",
    "    print(\"x is 5 or less\")\n",
    "print(\"End\")\n",
    "# Middle line changes depending on x\n"
   ]
  },
  {
   "cell_type": "code",
   "execution_count": 64,
   "id": "c125139b301c1550",
   "metadata": {
    "ExecuteTime": {
     "end_time": "2025-08-21T03:47:35.511452Z",
     "start_time": "2025-08-21T03:47:35.454999Z"
    }
   },
   "outputs": [
    {
     "name": "stdout",
     "output_type": "stream",
     "text": [
      "Countdown\n",
      "3\n",
      "2\n",
      "1\n",
      "Lift off!\n"
     ]
    }
   ],
   "source": [
    "count = 3\n",
    "print(\"Countdown\")\n",
    "while count > 0:\n",
    "    print(count)\n",
    "    count = count - 1\n",
    "print(\"Lift off!\")\n"
   ]
  },
  {
   "cell_type": "markdown",
   "id": "bd7d5db42c66f384",
   "metadata": {
    "collapsed": false
   },
   "source": [
    "## Long if Control Strucutre Example"
   ]
  },
  {
   "cell_type": "code",
   "execution_count": 65,
   "id": "74c5d6517c2ba243",
   "metadata": {
    "collapsed": false,
    "ExecuteTime": {
     "end_time": "2025-08-21T03:47:35.519248Z",
     "start_time": "2025-08-21T03:47:35.458553Z"
    }
   },
   "outputs": [
    {
     "name": "stdout",
     "output_type": "stream",
     "text": [
      "access: granted\n",
      "category: senior matinee (weekday)\n",
      "promo: midweek-16 discount\n",
      "final price: 50\n"
     ]
    }
   ],
   "source": [
    "age = 61\n",
    "is_student = False\n",
    "has_id = True\n",
    "day = \"wednesday\"        # e.g., \"monday\"...\"sunday\"\n",
    "time_24h = 16            # 0..23\n",
    "\n",
    "if (age >= 18 and has_id) or (age < 18 and has_id):\n",
    "    # inside: we know has_id is True (any age), so check age buckets\n",
    "    if age < 3:\n",
    "        price = 0\n",
    "        category = \"infant (free)\"\n",
    "    elif age < 12:\n",
    "        price = 60\n",
    "        category = \"child\"\n",
    "    elif age < 60:\n",
    "        # adult: possible student discount\n",
    "        if is_student and day in [\"monday\", \"tuesday\", \"wednesday\"]:\n",
    "            price = 70\n",
    "            category = \"adult student midweek\"\n",
    "        else:\n",
    "            price = 100\n",
    "            category = \"adult\"\n",
    "    else:\n",
    "        # senior: nested time/day adjustments\n",
    "        if day in [\"monday\", \"tuesday\", \"wednesday\", \"thursday\"] and time_24h < 17:\n",
    "            price = 60\n",
    "            category = \"senior matinee (weekday)\"\n",
    "        elif day in [\"saturday\", \"sunday\"]:\n",
    "            # weekend surcharge then possible early-bird reduction\n",
    "            if time_24h < 12:\n",
    "                price = 70\n",
    "                category = \"senior early-bird (weekend)\"\n",
    "            else:\n",
    "                price = 90\n",
    "                category = \"senior (weekend)\"\n",
    "        else:\n",
    "            price = 75\n",
    "            category = \"senior (regular)\"\n",
    "\n",
    "    # global promos layered after category pricing\n",
    "    # midweek promo for everyone at exactly 16:00 on Wednesday\n",
    "    if day == \"wednesday\" and time_24h == 16:\n",
    "        price = max(price - 10, 0)\n",
    "        promo = \"midweek-16 discount\"\n",
    "    else:\n",
    "        promo = \"none\"\n",
    "\n",
    "    print(\"access: granted\")\n",
    "    print(\"category:\", category)\n",
    "    print(\"promo:\", promo)\n",
    "    print(\"final price:\", price)\n",
    "\n",
    "else:\n",
    "    # no id → no access\n",
    "    print(\"access: denied - valid id required\")\n"
   ]
  },
  {
   "cell_type": "markdown",
   "id": "203c59935dd05c59",
   "metadata": {
    "collapsed": false
   },
   "source": [
    "# Exercises"
   ]
  },
  {
   "cell_type": "markdown",
   "id": "a14a6853097bb15d",
   "metadata": {
    "collapsed": false
   },
   "source": [
    "### 1) Even / Odd \n",
    "\n",
    "<p align=\"center\">\n",
    "  <img src=\"https://raw.githubusercontent.com/VF1Gimure/BusinessProgramming_1027/main/images/ifs-Page-1.drawio.png\" alt=\"Even / Odd\" width=\"600\">\n",
    "</p>\n"
   ]
  },
  {
   "cell_type": "code",
   "execution_count": 66,
   "id": "a3b5a1905b00f2ff",
   "metadata": {
    "collapsed": false,
    "ExecuteTime": {
     "end_time": "2025-08-21T18:17:12.431751Z",
     "start_time": "2025-08-21T18:17:09.042753Z"
    }
   },
   "outputs": [
    {
     "name": "stdout",
     "output_type": "stream",
     "text": [
      "ODD\n"
     ]
    }
   ],
   "source": [
    "#Read\n",
    "num = int(input(\"number: \"))\n",
    "if num%2==0:\n",
    "    print(\"EVEN\")\n",
    "else:\n",
    "    print(\"ODD\")"
   ]
  },
  {
   "cell_type": "code",
   "execution_count": 2,
   "outputs": [
    {
     "name": "stdout",
     "output_type": "stream",
     "text": [
      "ODD\n"
     ]
    }
   ],
   "source": [
    "num = float(input())\n",
    "\n",
    "if num.is_integer():\n",
    "    num = int(num)\n",
    "    if num%2==0:\n",
    "        print(\"EVEN\")\n",
    "    else:\n",
    "        print(\"ODD\")\n",
    "else:\n",
    "    print(\"I need an integer\")"
   ],
   "metadata": {
    "collapsed": false,
    "ExecuteTime": {
     "end_time": "2025-08-22T21:59:11.346951Z",
     "start_time": "2025-08-22T21:59:08.509748Z"
    }
   },
   "id": "19fb69e9024595e7"
  },
  {
   "cell_type": "markdown",
   "id": "6947fb74122a6d79",
   "metadata": {
    "collapsed": false
   },
   "source": [
    "### 2) Even / Odd (integer check)\n",
    "<p align=\"center\">\n",
    "  <img src=\"https://raw.githubusercontent.com/VF1Gimure/BusinessProgramming_1027/main/images/ifs-Page-2.drawio.png\" alt=\"Even / Odd (integer check)\" width=\"600\">\n",
    "</p>"
   ]
  },
  {
   "cell_type": "code",
   "execution_count": 65,
   "id": "e744ac6d3d9fe1bc",
   "metadata": {
    "collapsed": false,
    "ExecuteTime": {
     "end_time": "2025-08-21T03:47:35.519494Z",
     "start_time": "2025-08-21T03:47:35.462500Z"
    }
   },
   "outputs": [],
   "source": [
    "num = float(input(\"number: \"))\n",
    "if num.is_integer():\n",
    "    #DO THE PROGRAM\n",
    "    num = int(num)\n",
    "    if num%2==0:\n",
    "        print(\"EVEN\")\n",
    "    else:\n",
    "        print(\"ODD\")\n",
    "else:\n",
    "    print(\"IN NEED AN INTEGER!\")\n",
    "\n"
   ]
  },
  {
   "cell_type": "markdown",
   "id": "da750e7fa22cfe25",
   "metadata": {
    "collapsed": false
   },
   "source": [
    "### 3) Positive / Negative / Zero (use if - elif and else)\n",
    "<p align=\"center\">\n",
    "  <img src=\"https://raw.githubusercontent.com/VF1Gimure/BusinessProgramming_1027/main/images/ifs-Page-3.drawio.png\" alt=\"Positive / Negative / Zero\" width=\"600\">\n",
    "</p>"
   ]
  },
  {
   "cell_type": "code",
   "execution_count": 65,
   "id": "e3a3ccee4f17f8c7",
   "metadata": {
    "collapsed": false,
    "ExecuteTime": {
     "end_time": "2025-08-21T03:47:35.520667Z",
     "start_time": "2025-08-21T03:47:35.464171Z"
    }
   },
   "outputs": [],
   "source": [
    "if(num>0):\n",
    "    print(\"pos\")\n",
    "elif(num == 0):\n",
    "    print(\"zero\")\n",
    "else:\n",
    "    print(\"neg\")"
   ]
  },
  {
   "cell_type": "markdown",
   "id": "a7c1147310f4242b",
   "metadata": {
    "collapsed": false
   },
   "source": [
    "### 4) Discount / No Discount (use if and a nested if)\n",
    "<p align=\"center\">\n",
    "  <img src=\"https://raw.githubusercontent.com/VF1Gimure/BusinessProgramming_1027/main/images/ifs-Page-4.drawio.png\" alt=\"Discount / No Discount\" width=\"600\">\n",
    "</p>"
   ]
  },
  {
   "cell_type": "code",
   "execution_count": null,
   "outputs": [],
   "source": [
    "va"
   ],
   "metadata": {
    "collapsed": false
   },
   "id": "4351244728e490c2"
  },
  {
   "cell_type": "code",
   "execution_count": 2,
   "id": "2362f3d50e5a53ae",
   "metadata": {
    "collapsed": false,
    "ExecuteTime": {
     "end_time": "2025-08-22T22:48:17.348661Z",
     "start_time": "2025-08-22T22:48:08.007405Z"
    }
   },
   "outputs": [
    {
     "name": "stdout",
     "output_type": "stream",
     "text": [
      "Positive Even\n"
     ]
    }
   ],
   "source": [
    "\n"
   ]
  },
  {
   "cell_type": "code",
   "execution_count": null,
   "outputs": [],
   "source": [],
   "metadata": {
    "collapsed": false
   },
   "id": "18b22a78b588321c"
  },
  {
   "cell_type": "markdown",
   "id": "54a8d52d8cc63116",
   "metadata": {
    "collapsed": false
   },
   "source": []
  }
 ],
 "metadata": {
  "kernelspec": {
   "display_name": "Python 3 (ipykernel)",
   "language": "python",
   "name": "python3"
  },
  "language_info": {
   "codemirror_mode": {
    "name": "ipython",
    "version": 3
   },
   "file_extension": ".py",
   "mimetype": "text/x-python",
   "name": "python",
   "nbconvert_exporter": "python",
   "pygments_lexer": "ipython3",
   "version": "3.11.5"
  }
 },
 "nbformat": 4,
 "nbformat_minor": 5
}
