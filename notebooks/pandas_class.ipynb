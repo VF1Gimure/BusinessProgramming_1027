{
 "cells": [
  {
   "cell_type": "code",
   "execution_count": 2,
   "id": "initial_id",
   "metadata": {
    "collapsed": true,
    "ExecuteTime": {
     "end_time": "2025-09-01T02:50:31.367091Z",
     "start_time": "2025-09-01T02:50:31.092381Z"
    }
   },
   "outputs": [],
   "source": [
    "import pandas as pd\n"
   ]
  },
  {
   "cell_type": "code",
   "execution_count": 5,
   "outputs": [
    {
     "name": "stdout",
     "output_type": "stream",
     "text": [
      "      Name  Age         City\n",
      "0    Alice   23    Monterrey\n",
      "1      Bob   30         CDMX\n",
      "2  Charlie   35  Guadalajara\n",
      "3    Diana   29       Puebla\n",
      "4      Eve   40      Tijuana\n"
     ]
    }
   ],
   "source": [
    "# Example: Load a CSV file\n",
    "# (we pretend the file is inside the folder dummy_data/)\n",
    "dummy_data_path = \"../dummy_data/\"\n",
    "df = pd.read_csv(dummy_data_path+\"data.csv\")\n",
    "\n",
    "# Show the first 5 rows\n",
    "print(df.head())"
   ],
   "metadata": {
    "collapsed": false,
    "ExecuteTime": {
     "end_time": "2025-09-01T02:51:18.971727Z",
     "start_time": "2025-09-01T02:51:18.968014Z"
    }
   },
   "id": "2d85d3de8659acdc"
  },
  {
   "cell_type": "code",
   "execution_count": null,
   "outputs": [],
   "source": [
    "\n",
    "# First, we import it.\n",
    "# Notice that we are doing \"as\" pd\n",
    "# This is only so we don't have to write \"pandas\" \n",
    "# And to simply call it \"pd\" for short henceforth"
   ],
   "metadata": {
    "collapsed": false
   },
   "id": "30773c904b609294"
  }
 ],
 "metadata": {
  "kernelspec": {
   "display_name": "Python 3",
   "language": "python",
   "name": "python3"
  },
  "language_info": {
   "codemirror_mode": {
    "name": "ipython",
    "version": 2
   },
   "file_extension": ".py",
   "mimetype": "text/x-python",
   "name": "python",
   "nbconvert_exporter": "python",
   "pygments_lexer": "ipython2",
   "version": "2.7.6"
  }
 },
 "nbformat": 4,
 "nbformat_minor": 5
}
