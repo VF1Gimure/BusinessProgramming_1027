{
 "cells": [
  {
   "cell_type": "markdown",
   "id": "ce94451a-54ba-41d8-8139-87cf5fa77495",
   "metadata": {
    "collapsed": false
   },
   "source": [
    "> created by Luis S. Flores for ITESM\n",
    "> Contact: Luis_SFU@tec.mx\n",
    "> August/2025\n",
    ">"
   ]
  },
  {
   "cell_type": "markdown",
   "id": "a0e283b0",
   "metadata": {},
   "source": [
    "# Functions in Python\n",
    "\n",
    "<span style=\"font-size:16px\">\n",
    "\n",
    "This notebook will help you learn how to use **functions** in Python."
   ]
  },
  {
   "cell_type": "markdown",
   "id": "f92da2d4",
   "metadata": {},
   "source": [
    "## What is a Function?\n",
    "\n",
    "- A function is a block of code that runs only when you call it.\n",
    "- Functions help us **reuse code** instead of writing the same thing many times."
   ]
  },
  {
   "cell_type": "markdown",
   "id": "b655c189fae30472",
   "metadata": {
    "collapsed": false
   },
   "source": [
    "# Understanding a Python Function (Step by Step)\n",
    "A **function** is like a small machine that does a job for us.  \n",
    "We give it a name, sometimes give it inputs, and it can give us back an answer.  \n"
   ]
  },
  {
   "cell_type": "markdown",
   "id": "24692d6fb0181f3d",
   "metadata": {
    "collapsed": false
   },
   "source": []
  },
  {
   "cell_type": "code",
   "execution_count": 58,
   "outputs": [
    {
     "data": {
      "text/plain": "10"
     },
     "execution_count": 58,
     "metadata": {},
     "output_type": "execute_result"
    }
   ],
   "source": [
    "import cmath\n",
    "\n",
    "result = 10\n",
    "result"
   ],
   "metadata": {
    "collapsed": false,
    "ExecuteTime": {
     "end_time": "2025-08-18T17:59:44.370022Z",
     "start_time": "2025-08-18T17:59:44.356531Z"
    }
   },
   "id": "b3192d7f83f528d"
  },
  {
   "cell_type": "code",
   "execution_count": 59,
   "outputs": [
    {
     "data": {
      "text/plain": "20"
     },
     "execution_count": 59,
     "metadata": {},
     "output_type": "execute_result"
    }
   ],
   "source": [
    "result = 20\n",
    "result"
   ],
   "metadata": {
    "collapsed": false,
    "ExecuteTime": {
     "end_time": "2025-08-18T18:00:20.071015Z",
     "start_time": "2025-08-18T18:00:20.065501Z"
    }
   },
   "id": "939afbdfc708e591"
  },
  {
   "cell_type": "markdown",
   "id": "4bde6369",
   "metadata": {},
   "source": [
    "## Example: A Very Simple Function"
   ]
  },
  {
   "cell_type": "code",
   "execution_count": 49,
   "id": "1e5fe381b731773b",
   "metadata": {
    "collapsed": false,
    "ExecuteTime": {
     "end_time": "2025-08-18T16:42:36.634738Z",
     "start_time": "2025-08-18T16:42:36.591996Z"
    }
   },
   "outputs": [
    {
     "name": "stdout",
     "output_type": "stream",
     "text": [
      "Hello!\n"
     ]
    }
   ],
   "source": [
    "def say_hello():\n",
    "    print(\"Hello!\")\n",
    "\n",
    "# Call the function\n",
    "say_hello()"
   ]
  },
  {
   "cell_type": "markdown",
   "id": "9ab19dac7d0e8b17",
   "metadata": {
    "collapsed": false
   },
   "source": [
    "## `def`\n",
    "- This is a keyword in Python.  \n",
    "- It tells Python: \"Hey, I’m about to **define** a function.\""
   ]
  },
  {
   "cell_type": "markdown",
   "id": "91fa711beee97449",
   "metadata": {
    "collapsed": false
   },
   "source": [
    "## `say_hello`\n",
    "- This is the **name** of the function.  \n",
    "- We choose the name (it can be anything, but it should describe the job).  \n",
    "- Here, the job is to \"say hello,\" so the name is `say_hello`."
   ]
  },
  {
   "cell_type": "markdown",
   "id": "860061373d736626",
   "metadata": {
    "collapsed": false
   },
   "source": [
    "## `()`\n",
    "- Functions can take **inputs** (also called parameters).  \n",
    "- In this example, the parentheses are empty, meaning the function does **not** need any input.  \n",
    "- Later, we will see functions that have something **inside** these parentheses."
   ]
  },
  {
   "cell_type": "markdown",
   "id": "8987dca9fc41ef0a",
   "metadata": {
    "collapsed": false
   },
   "source": [
    "## `:`\n",
    "- The colon tells Python:  \n",
    "  \"Everything that comes after this (and is indented) belongs to the function.\""
   ]
  },
  {
   "cell_type": "markdown",
   "id": "9efb52176a94878a",
   "metadata": {
    "collapsed": false
   },
   "source": [
    "## Indentation (TAB or 4 spaces)\n",
    "- In Python, indentation (the space before a line) is **VERY important**.  \n",
    "- It tells Python that this code is *inside* the function.  \n",
    "- Without indentation, Python will give an error.  \n"
   ]
  },
  {
   "cell_type": "code",
   "execution_count": 50,
   "id": "c13f6ee09ee14aa6",
   "metadata": {
    "collapsed": false,
    "ExecuteTime": {
     "end_time": "2025-08-18T16:42:36.641647Z",
     "start_time": "2025-08-18T16:42:36.601070Z"
    }
   },
   "outputs": [
    {
     "ename": "IndentationError",
     "evalue": "expected an indented block after function definition on line 2 (2417206209.py, line 3)",
     "output_type": "error",
     "traceback": [
      "\u001B[0;36m  File \u001B[0;32m\"/var/folders/5n/lp3_lp252c17c644s2777gmr0000gn/T/ipykernel_81997/2417206209.py\"\u001B[0;36m, line \u001B[0;32m3\u001B[0m\n\u001B[0;31m    print(\"Hello!\")   # Not indented error <--\u001B[0m\n\u001B[0m    ^\u001B[0m\n\u001B[0;31mIndentationError\u001B[0m\u001B[0;31m:\u001B[0m expected an indented block after function definition on line 2\n"
     ]
    }
   ],
   "source": [
    "# Wrong \n",
    "def say_hello_again():\n",
    "print(\"Hello!\")   # Not indented error <--\n"
   ]
  },
  {
   "cell_type": "code",
   "execution_count": null,
   "id": "10f3401867035d2b",
   "metadata": {
    "collapsed": false,
    "ExecuteTime": {
     "start_time": "2025-08-18T16:42:36.604410Z"
    }
   },
   "outputs": [],
   "source": [
    "# Correct \n",
    "def say_hello_again():\n",
    "    print(\"Hello!\")  # Indented"
   ]
  },
  {
   "cell_type": "markdown",
   "id": "17833d0cc55e6ae1",
   "metadata": {
    "collapsed": false
   },
   "source": [
    "## The Body (Code Block)\n",
    "- The indented area **is the body of the function**.  \n",
    "- The body is where the actual work happens.  \n",
    "- Think of it as the inside of the machine.  \n",
    "\n",
    "Here’s the function again, with the **body highlighted**:\n"
   ]
  },
  {
   "cell_type": "code",
   "execution_count": null,
   "id": "39ceb7e8486c3814",
   "metadata": {
    "collapsed": false,
    "ExecuteTime": {
     "start_time": "2025-08-18T16:42:36.605633Z"
    }
   },
   "outputs": [],
   "source": [
    "def say_hello():       # function header\n",
    "    print(\"Hello!\")    # <-- THIS PART is the body (code block)\n"
   ]
  },
  {
   "cell_type": "markdown",
   "source": [
    "## Functions with Parameters\n",
    "Functions can take information (parameters) and use it."
   ],
   "metadata": {
    "collapsed": false
   },
   "id": "ee608987513e59fa"
  },
  {
   "cell_type": "code",
   "execution_count": 51,
   "outputs": [
    {
     "name": "stdout",
     "output_type": "stream",
     "text": [
      "Hello Ana\n",
      "Hello Luis\n"
     ]
    }
   ],
   "source": [
    "def greet(name):\n",
    "    print(\"Hello\", name)\n",
    "\n",
    "# Examples\n",
    "greet(\"Ana\")\n",
    "greet(\"Luis\")"
   ],
   "metadata": {
    "collapsed": false,
    "ExecuteTime": {
     "end_time": "2025-08-18T16:42:36.676983Z",
     "start_time": "2025-08-18T16:42:36.608129Z"
    }
   },
   "id": "afc7a4af4816c1c3"
  },
  {
   "cell_type": "markdown",
   "source": [
    "## Functions with Math"
   ],
   "metadata": {
    "collapsed": false
   },
   "id": "dd956ee986af2f62"
  },
  {
   "cell_type": "code",
   "execution_count": 52,
   "outputs": [
    {
     "name": "stdout",
     "output_type": "stream",
     "text": [
      "The result is: 7\n",
      "The result is: 30\n"
     ]
    }
   ],
   "source": [
    "def add_numbers(a, b):\n",
    "    result = a + b\n",
    "    print(\"The result is:\", result)\n",
    "\n",
    "# Examples\n",
    "add_numbers(3, 4)\n",
    "add_numbers(10, 20)"
   ],
   "metadata": {
    "collapsed": false,
    "ExecuteTime": {
     "end_time": "2025-08-18T16:42:36.678083Z",
     "start_time": "2025-08-18T16:42:36.610696Z"
    }
   },
   "id": "87b9a1742dacb433"
  },
  {
   "cell_type": "markdown",
   "source": [
    "## Returning Values\n",
    "Sometimes we want a function to **give back** an answer."
   ],
   "metadata": {
    "collapsed": false
   },
   "id": "b96cf8b9317caae9"
  },
  {
   "cell_type": "code",
   "execution_count": 2,
   "outputs": [
    {
     "name": "stdout",
     "output_type": "stream",
     "text": [
      "6 times 7 is 42\n"
     ]
    }
   ],
   "source": [
    "def multiply(a, b):\n",
    "    return a * b\n",
    "\n",
    "# Example\n",
    "answer = multiply(6, 7)\n",
    "print(\"6 times 7 is\", answer)"
   ],
   "metadata": {
    "collapsed": false,
    "ExecuteTime": {
     "end_time": "2025-08-18T18:25:26.257263Z",
     "start_time": "2025-08-18T18:25:26.246078Z"
    }
   },
   "id": "71a7898f14ad1bdf"
  },
  {
   "cell_type": "code",
   "execution_count": 3,
   "outputs": [
    {
     "data": {
      "text/plain": "300"
     },
     "execution_count": 3,
     "metadata": {},
     "output_type": "execute_result"
    }
   ],
   "source": [
    "multi = multiply(2,5)*multiply(10,3)"
   ],
   "metadata": {
    "collapsed": false,
    "ExecuteTime": {
     "end_time": "2025-08-18T18:25:46.785571Z",
     "start_time": "2025-08-18T18:25:46.778150Z"
    }
   },
   "id": "d6a82e8af87be081"
  },
  {
   "cell_type": "markdown",
   "id": "6735663704b39882",
   "metadata": {
    "collapsed": false
   },
   "source": [
    "# Example: Why Use Functions?\n",
    "Let’s imagine we want to calculate the **monthly payment** for a loan.  \n",
    "The formula (don’t worry too much about it right now) is:\n",
    "\n",
    "$$ \\text{payment} = P \\times \\frac{i(1+i)^n}{(1+i)^n - 1} $$\n",
    "\n",
    "- \\( P \\) = principal (the amount of the loan)  \n",
    "- \\( i \\) = monthly interest rate (for example, 5% yearly → 0.05/12 per month)  \n",
    "- \\( n \\) = number of months (loan length)  \n",
    " \n"
   ]
  },
  {
   "cell_type": "markdown",
   "id": "92c3a61d7ffbb1ee",
   "metadata": {
    "collapsed": false
   },
   "source": [
    "## Without a Function\n",
    "If we don’t use a function, we have to write the full formula every time.\n"
   ]
  },
  {
   "cell_type": "code",
   "execution_count": 54,
   "id": "31d3a6f004d86e3b",
   "metadata": {
    "collapsed": false,
    "ExecuteTime": {
     "end_time": "2025-08-18T16:42:36.679743Z",
     "start_time": "2025-08-18T16:42:36.617038Z"
    }
   },
   "outputs": [
    {
     "name": "stdout",
     "output_type": "stream",
     "text": [
      "Monthly payment 1: 856.0748178846745\n",
      "Monthly payment 2: 223.86289551572642\n"
     ]
    }
   ],
   "source": [
    "# Example: $10,000 loan, 5% yearly interest, 12 months\n",
    "P = 10000\n",
    "i = 0.05 / 12\n",
    "n = 12\n",
    "\n",
    "payment1 = P * (i * (1 + i)**n) / ((1 + i)**n - 1)\n",
    "print(\"Monthly payment 1:\", payment1)\n",
    "\n",
    "# Another loan, different values\n",
    "P = 5000\n",
    "i = 0.07 / 12\n",
    "n = 24\n",
    "\n",
    "payment2 = P * (i * (1 + i)**n) / ((1 + i)**n - 1)\n",
    "print(\"Monthly payment 2:\", payment2)\n"
   ]
  },
  {
   "cell_type": "markdown",
   "id": "d3ce60d0b85b669e",
   "metadata": {
    "collapsed": false
   },
   "source": [
    "## With a Function\n",
    "If we put the formula into a function, we only need to **define it once**."
   ]
  },
  {
   "cell_type": "code",
   "execution_count": 55,
   "id": "26852c9f0e468384",
   "metadata": {
    "collapsed": false,
    "ExecuteTime": {
     "end_time": "2025-08-18T16:42:36.680538Z",
     "start_time": "2025-08-18T16:42:36.620297Z"
    }
   },
   "outputs": [
    {
     "name": "stdout",
     "output_type": "stream",
     "text": [
      "Monthly payment 1: 856.0748178846745\n",
      "Monthly payment 2: 223.86289551572642\n",
      "Monthly payment 3: 442.85977510264564\n"
     ]
    }
   ],
   "source": [
    "def calculate_monthly_payment(P, i, n):\n",
    "    return P * (i * (1 + i)**n) / ((1 + i)**n - 1)\n",
    "\n",
    "# Now we can reuse it easily:\n",
    "print(\"Monthly payment 1:\", calculate_monthly_payment(10000, 0.05/12, 12))\n",
    "print(\"Monthly payment 2:\", calculate_monthly_payment(5000, 0.07/12, 24))\n",
    "# We can also be more explicit by naming each parameter:\n",
    "print(\"Monthly payment 3:\", calculate_monthly_payment(P=15000, i=0.04/12, n=36))"
   ]
  },
  {
   "cell_type": "markdown",
   "id": "e9184bf35029d1bb",
   "metadata": {
    "collapsed": false
   },
   "source": []
  },
  {
   "cell_type": "markdown",
   "id": "984833044801175e",
   "metadata": {
    "collapsed": false
   },
   "source": [
    "### A Note on Naming\n",
    "In the 3rd example we wrote:\n",
    "\n",
    "```python\n",
    "calculate_monthly_payment(P=15000, i=0.04/12, n=36)\n",
    "```\n",
    "The names P, i, and n only make sense if you already know the formula.\n",
    "\n",
    "For a beginner (or someone reading your code later), P could mean anything,\n",
    "and i looks like just a letter, not \"interest rate.\"\n",
    "\n",
    "This is why choosing clear names is so important in functions.\n",
    "\n",
    "A better version would be:"
   ]
  },
  {
   "cell_type": "code",
   "execution_count": 56,
   "id": "f0f354323e7b785a",
   "metadata": {
    "collapsed": false,
    "ExecuteTime": {
     "end_time": "2025-08-18T16:42:36.680617Z",
     "start_time": "2025-08-18T16:42:36.623214Z"
    }
   },
   "outputs": [
    {
     "name": "stdout",
     "output_type": "stream",
     "text": [
      "442.85977510264564\n",
      "442.85977510264564\n"
     ]
    }
   ],
   "source": [
    "def get_monthly_payment(principal, monthly_interest, months):\n",
    "    return (principal * \n",
    "            (monthly_interest * (1 + monthly_interest)**months)\n",
    "            / \n",
    "            ((1 + monthly_interest)**months - 1))\n",
    "\n",
    "print(get_monthly_payment(principal=15000, monthly_interest=0.04/12, months=36))\n",
    "#Same as : \n",
    "print(get_monthly_payment(15000, 0.04/12, 36))"
   ]
  },
  {
   "cell_type": "markdown",
   "id": "bbb2d179bc079698",
   "metadata": {
    "collapsed": false
   },
   "source": [
    "## Why This is Better\n",
    "\n",
    "- **Less typing**: we don’t repeat the formula every time we need a monthly payment.  \n",
    "- **Fewer mistakes**: the formula only lives in one place, inside the function. If we fix it once, it works everywhere.  \n",
    "- **Reusability**: we can call the function for any loan, with any numbers.  \n",
    "- **Clear names**: when we choose clear names for the inputs, it helps us (and anyone reading the code) understand what the function needs without having to look back at the formula.  \n",
    "\n",
    "\n"
   ]
  },
  {
   "cell_type": "markdown",
   "id": "21b8aa795c235e7f",
   "metadata": {
    "collapsed": false
   },
   "source": [
    "## Practice Exercises\n",
    "\n",
    "1. Make a function that subtracts two numbers and prints the result.  \n",
    "2. Make a function that returns the area of a rectangle (base × height).  \n",
    "3. Make a function that asks for a number and prints if it is even or odd.  \n",
    "4. Make a function that converts Celsius to Fahrenheit."
   ]
  },
  {
   "cell_type": "markdown",
   "id": "ca9f98c38b4bf835",
   "metadata": {
    "collapsed": false
   },
   "source": [
    "Note: I am only aksing to the function, and I'm also saying what it should do.\n",
    "All functions SHOULD BE TESTED"
   ]
  },
  {
   "cell_type": "markdown",
   "id": "e6783e13341bad3a",
   "metadata": {
    "collapsed": false
   },
   "source": [
    "## Problem 1"
   ]
  },
  {
   "cell_type": "code",
   "execution_count": 64,
   "id": "ca3b328763948155",
   "metadata": {
    "collapsed": false,
    "ExecuteTime": {
     "end_time": "2025-08-18T18:14:36.212857Z",
     "start_time": "2025-08-18T18:14:36.208042Z"
    }
   },
   "outputs": [
    {
     "name": "stdout",
     "output_type": "stream",
     "text": [
      "substraction from a-b: 0.8999999999999999\n",
      "substraction from a-b: 0.900000\n"
     ]
    }
   ],
   "source": [
    "def subtract(a, b):\n",
    "    sub = a-b\n",
    "    print(\"substraction from a-b:\", sub)\n",
    "    print(f\"substraction from a-b: {sub:3f}\")\n",
    "\n",
    "subtract(4,3.1)"
   ]
  },
  {
   "cell_type": "markdown",
   "id": "e3cf54695986dd04",
   "metadata": {
    "collapsed": false
   },
   "source": [
    "## Problem 2\n",
    "\n",
    "$$ A = base * height $$"
   ]
  },
  {
   "cell_type": "code",
   "execution_count": 4,
   "id": "e7cdabccf3737fb5",
   "metadata": {
    "collapsed": false,
    "ExecuteTime": {
     "end_time": "2025-08-18T18:27:51.921237Z",
     "start_time": "2025-08-18T18:27:49.520223Z"
    }
   },
   "outputs": [
    {
     "name": "stdout",
     "output_type": "stream",
     "text": [
      "False\n"
     ]
    }
   ],
   "source": [
    "#Make a function that asks for a number and prints if it is even or odd.\n",
    "def even():\n",
    "    num = int(input(\"write number: \"))\n",
    "    return num%2 == 0\n",
    "\n",
    "print(even())"
   ]
  },
  {
   "cell_type": "markdown",
   "id": "cbee05b254be8787",
   "metadata": {
    "collapsed": false
   },
   "source": [
    "## Problem 3"
   ]
  },
  {
   "cell_type": "code",
   "execution_count": 56,
   "id": "ba3af63be35afe27",
   "metadata": {
    "collapsed": false,
    "ExecuteTime": {
     "end_time": "2025-08-18T16:42:36.707090Z",
     "start_time": "2025-08-18T16:42:36.632094Z"
    }
   },
   "outputs": [],
   "source": []
  },
  {
   "cell_type": "markdown",
   "id": "4aeda17b60e59131",
   "metadata": {
    "collapsed": false
   },
   "source": [
    "## Problem 4\n",
    "\n",
    "\n",
    "Formulas:  \n",
    "$$ F = \\frac{9}{5}C + 32 $$\n",
    "\n",
    "\n",
    "$$ C = \\frac{5}{9}(F - 32) $$\n",
    "\n"
   ]
  },
  {
   "cell_type": "code",
   "execution_count": 56,
   "id": "79e85fb52e273cc9",
   "metadata": {
    "collapsed": false,
    "ExecuteTime": {
     "end_time": "2025-08-18T16:42:36.708293Z",
     "start_time": "2025-08-18T16:42:36.633803Z"
    }
   },
   "outputs": [],
   "source": []
  },
  {
   "cell_type": "code",
   "execution_count": 56,
   "id": "dd354cc8b68af74",
   "metadata": {
    "collapsed": false,
    "ExecuteTime": {
     "end_time": "2025-08-18T16:42:36.708391Z",
     "start_time": "2025-08-18T16:42:36.635722Z"
    }
   },
   "outputs": [],
   "source": [
    "import cmath\n",
    "# INPUT a\n",
    "a = float(input(\"input a\"))\n",
    "#INPUT b\n",
    "b = float(input(\"input b\"))\n",
    "#INPUT c\n",
    "c = float(input(\"input c\"))\n",
    "#main_calc <- calculate root\n",
    "#rootsqrt\n",
    "main_calc =  cmath.sqrt(b**2 - (4*a*c))\n",
    "#x1 <- calculate +\n",
    "x1 = (-b + main_calc)/2*a\n",
    "#x2 <- calculate -\n",
    "x2 = (-b - main_calc)/2*a\n",
    "#MESSAGE\n",
    "print(\"The solutions to the equation are:\")\n",
    "#ANSWER X1\n",
    "\n",
    "#ANSWER X2"
   ]
  }
 ],
 "metadata": {
  "kernelspec": {
   "display_name": "Python 3 (ipykernel)",
   "language": "python",
   "name": "python3"
  },
  "language_info": {
   "codemirror_mode": {
    "name": "ipython",
    "version": 3
   },
   "file_extension": ".py",
   "mimetype": "text/x-python",
   "name": "python",
   "nbconvert_exporter": "python",
   "pygments_lexer": "ipython3",
   "version": "3.11.5"
  }
 },
 "nbformat": 4,
 "nbformat_minor": 5
}
